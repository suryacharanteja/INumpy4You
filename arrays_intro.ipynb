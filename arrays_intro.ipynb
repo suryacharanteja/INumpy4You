{
 "cells": [
  {
   "cell_type": "code",
   "execution_count": null,
   "id": "48af9b4f",
   "metadata": {},
   "outputs": [],
   "source": [
    "import numpy as np"
   ]
  },
  {
   "cell_type": "code",
   "execution_count": null,
   "id": "acd85c51",
   "metadata": {},
   "outputs": [],
   "source": [
    "a = np.arange(20).reshape(4, 5)"
   ]
  },
  {
   "cell_type": "code",
   "execution_count": null,
   "id": "28f6f9b4",
   "metadata": {},
   "outputs": [],
   "source": [
    "a"
   ]
  },
  {
   "cell_type": "code",
   "execution_count": null,
   "id": "b257b9c2",
   "metadata": {},
   "outputs": [],
   "source": [
    "b = np.arange(20).reshape(5, 4)"
   ]
  },
  {
   "cell_type": "code",
   "execution_count": null,
   "id": "661e8aed",
   "metadata": {},
   "outputs": [],
   "source": [
    "b"
   ]
  },
  {
   "cell_type": "code",
   "execution_count": null,
   "id": "79082f82",
   "metadata": {},
   "outputs": [],
   "source": [
    "c = np.arange(16).reshape(4, 4)"
   ]
  },
  {
   "cell_type": "code",
   "execution_count": null,
   "id": "0ca84841",
   "metadata": {},
   "outputs": [],
   "source": [
    "c"
   ]
  },
  {
   "cell_type": "code",
   "execution_count": null,
   "id": "1f60cccf",
   "metadata": {},
   "outputs": [],
   "source": [
    "a.shape"
   ]
  },
  {
   "cell_type": "code",
   "execution_count": null,
   "id": "33043510",
   "metadata": {},
   "outputs": [],
   "source": [
    "a.ndim"
   ]
  },
  {
   "cell_type": "code",
   "execution_count": null,
   "id": "8d487039",
   "metadata": {},
   "outputs": [],
   "source": [
    "b.shape"
   ]
  },
  {
   "cell_type": "code",
   "execution_count": null,
   "id": "d29c720a",
   "metadata": {},
   "outputs": [],
   "source": [
    "b.ndim"
   ]
  },
  {
   "cell_type": "code",
   "execution_count": null,
   "id": "50070ba3",
   "metadata": {},
   "outputs": [],
   "source": [
    "c.shape"
   ]
  },
  {
   "cell_type": "code",
   "execution_count": null,
   "id": "c7a39b12",
   "metadata": {},
   "outputs": [],
   "source": [
    "c.ndim"
   ]
  },
  {
   "cell_type": "code",
   "execution_count": null,
   "id": "ae9ac96e",
   "metadata": {},
   "outputs": [],
   "source": [
    "a.size"
   ]
  },
  {
   "cell_type": "code",
   "execution_count": null,
   "id": "e71eed53",
   "metadata": {},
   "outputs": [],
   "source": [
    "b.size"
   ]
  },
  {
   "cell_type": "code",
   "execution_count": null,
   "id": "a576c372",
   "metadata": {},
   "outputs": [],
   "source": [
    "c.size"
   ]
  },
  {
   "cell_type": "code",
   "execution_count": null,
   "id": "3482c98b",
   "metadata": {},
   "outputs": [],
   "source": [
    "a.dtype"
   ]
  },
  {
   "cell_type": "code",
   "execution_count": null,
   "id": "b846bd00",
   "metadata": {},
   "outputs": [],
   "source": [
    "b.dtype"
   ]
  },
  {
   "cell_type": "code",
   "execution_count": null,
   "id": "52a946ed",
   "metadata": {},
   "outputs": [],
   "source": [
    "c.dtype"
   ]
  },
  {
   "cell_type": "code",
   "execution_count": null,
   "id": "df30db65",
   "metadata": {},
   "outputs": [],
   "source": [
    "a.itemsize"
   ]
  },
  {
   "cell_type": "code",
   "execution_count": null,
   "id": "ba2face0",
   "metadata": {},
   "outputs": [],
   "source": [
    "b.itemsize"
   ]
  },
  {
   "cell_type": "code",
   "execution_count": null,
   "id": "69777057",
   "metadata": {},
   "outputs": [],
   "source": [
    "c.itemsize"
   ]
  },
  {
   "cell_type": "code",
   "execution_count": null,
   "id": "fdf88cb6",
   "metadata": {},
   "outputs": [],
   "source": [
    "a.data\n"
   ]
  },
  {
   "cell_type": "code",
   "execution_count": null,
   "id": "2c95679e",
   "metadata": {},
   "outputs": [],
   "source": [
    "b.data"
   ]
  },
  {
   "cell_type": "code",
   "execution_count": null,
   "id": "223656e7",
   "metadata": {},
   "outputs": [],
   "source": [
    "c.data"
   ]
  },
  {
   "cell_type": "code",
   "execution_count": null,
   "id": "96120ede",
   "metadata": {},
   "outputs": [],
   "source": []
  },
  {
   "cell_type": "markdown",
   "id": "5117e647",
   "metadata": {},
   "source": [
    "# Array creation"
   ]
  },
  {
   "cell_type": "markdown",
   "id": "808a8ca7",
   "metadata": {},
   "source": [
    "### 1. array creation from Python sequences"
   ]
  },
  {
   "cell_type": "code",
   "execution_count": null,
   "id": "e15b3dcf",
   "metadata": {},
   "outputs": [],
   "source": [
    "a1 = np.array([1, 2, 3])"
   ]
  },
  {
   "cell_type": "code",
   "execution_count": null,
   "id": "1aeb03bd",
   "metadata": {},
   "outputs": [],
   "source": [
    "a1"
   ]
  },
  {
   "cell_type": "code",
   "execution_count": null,
   "id": "0557b159",
   "metadata": {},
   "outputs": [],
   "source": [
    "a1.shape\n"
   ]
  },
  {
   "cell_type": "code",
   "execution_count": null,
   "id": "e4e4681c",
   "metadata": {},
   "outputs": [],
   "source": [
    "a1.ndim"
   ]
  },
  {
   "cell_type": "code",
   "execution_count": null,
   "id": "bb1322e9",
   "metadata": {},
   "outputs": [],
   "source": [
    "a1.dtype"
   ]
  },
  {
   "cell_type": "code",
   "execution_count": null,
   "id": "f2229d1a",
   "metadata": {},
   "outputs": [],
   "source": [
    "af1 = np.array([1.0, 2.1, 3.2, 4.5])"
   ]
  },
  {
   "cell_type": "code",
   "execution_count": null,
   "id": "98542867",
   "metadata": {},
   "outputs": [],
   "source": [
    "af1"
   ]
  },
  {
   "cell_type": "code",
   "execution_count": null,
   "id": "25dab773",
   "metadata": {},
   "outputs": [],
   "source": [
    "af1.dtype"
   ]
  },
  {
   "cell_type": "code",
   "execution_count": null,
   "id": "ad3d4e38",
   "metadata": {},
   "outputs": [],
   "source": [
    "af1.itemsize"
   ]
  },
  {
   "cell_type": "code",
   "execution_count": null,
   "id": "173f57a8",
   "metadata": {},
   "outputs": [],
   "source": [
    "a1.itemsize"
   ]
  },
  {
   "cell_type": "code",
   "execution_count": null,
   "id": "551e8b78",
   "metadata": {},
   "outputs": [],
   "source": [
    "a2 = np.array(1, 2, 3, 4)"
   ]
  },
  {
   "cell_type": "code",
   "execution_count": null,
   "id": "98532786",
   "metadata": {},
   "outputs": [],
   "source": [
    "a3 = np.array([1, 2, 3, 4])"
   ]
  },
  {
   "cell_type": "code",
   "execution_count": null,
   "id": "ea21e2d8",
   "metadata": {},
   "outputs": [],
   "source": [
    "a3"
   ]
  },
  {
   "cell_type": "markdown",
   "id": "85959377",
   "metadata": {},
   "source": [
    "### creating multidimensional arrays"
   ]
  },
  {
   "cell_type": "code",
   "execution_count": null,
   "id": "3d3db90a",
   "metadata": {},
   "outputs": [],
   "source": [
    "mda = np.array([[1, 2, 3], [2, 3, 4]])"
   ]
  },
  {
   "cell_type": "code",
   "execution_count": null,
   "id": "9205bc37",
   "metadata": {},
   "outputs": [],
   "source": [
    "mda"
   ]
  },
  {
   "cell_type": "code",
   "execution_count": null,
   "id": "78123e92",
   "metadata": {},
   "outputs": [],
   "source": [
    "mda.shape"
   ]
  },
  {
   "cell_type": "code",
   "execution_count": null,
   "id": "cb199e04",
   "metadata": {},
   "outputs": [],
   "source": [
    "mda.ndim"
   ]
  },
  {
   "cell_type": "code",
   "execution_count": null,
   "id": "23d21ddf",
   "metadata": {},
   "outputs": [],
   "source": [
    "mda1 = np.array([(1, 2, 3.3), (2.5, 3, 4)])"
   ]
  },
  {
   "cell_type": "code",
   "execution_count": null,
   "id": "4966d4fb",
   "metadata": {},
   "outputs": [],
   "source": [
    "mda1"
   ]
  },
  {
   "cell_type": "code",
   "execution_count": null,
   "id": "1250175a",
   "metadata": {},
   "outputs": [],
   "source": [
    "mda1.dtype"
   ]
  },
  {
   "cell_type": "markdown",
   "id": "1c941ba3",
   "metadata": {},
   "source": [
    "### specifiying data type explicitly"
   ]
  },
  {
   "cell_type": "code",
   "execution_count": null,
   "id": "e0cbe91c",
   "metadata": {},
   "outputs": [],
   "source": [
    "compa = np.array([[1, 2], [3, 4]], dtype=complex)"
   ]
  },
  {
   "cell_type": "code",
   "execution_count": null,
   "id": "de155403",
   "metadata": {},
   "outputs": [],
   "source": [
    "compa"
   ]
  },
  {
   "cell_type": "code",
   "execution_count": null,
   "id": "69a477ae",
   "metadata": {},
   "outputs": [],
   "source": [
    "compa.dtype"
   ]
  },
  {
   "cell_type": "code",
   "execution_count": null,
   "id": "9bd44fff",
   "metadata": {},
   "outputs": [],
   "source": [
    "compa.itemsize"
   ]
  },
  {
   "cell_type": "markdown",
   "id": "e57d71ff",
   "metadata": {},
   "source": [
    "### method zeros"
   ]
  },
  {
   "cell_type": "code",
   "execution_count": null,
   "id": "a3610fdd",
   "metadata": {},
   "outputs": [],
   "source": [
    "np.zeros((3, 4))"
   ]
  },
  {
   "cell_type": "markdown",
   "id": "42b60045",
   "metadata": {},
   "source": [
    "### method ones"
   ]
  },
  {
   "cell_type": "code",
   "execution_count": null,
   "id": "ddc429ef",
   "metadata": {},
   "outputs": [],
   "source": [
    "np.ones((2, 3, 4), dtype=np.int16)"
   ]
  },
  {
   "cell_type": "markdown",
   "id": "fdd8bdcb",
   "metadata": {},
   "source": [
    "### method empty"
   ]
  },
  {
   "cell_type": "code",
   "execution_count": null,
   "id": "0a45e427",
   "metadata": {},
   "outputs": [],
   "source": [
    "np.empty((3, 2))"
   ]
  },
  {
   "cell_type": "code",
   "execution_count": null,
   "id": "cccefbce",
   "metadata": {},
   "outputs": [],
   "source": [
    "np.empty((6, 2))"
   ]
  },
  {
   "cell_type": "code",
   "execution_count": null,
   "id": "1b3fd375",
   "metadata": {},
   "outputs": [],
   "source": [
    "np.empty((2, 3))"
   ]
  },
  {
   "cell_type": "markdown",
   "id": "d93f917c",
   "metadata": {},
   "source": [
    "### using arange method"
   ]
  },
  {
   "cell_type": "code",
   "execution_count": null,
   "id": "35736778",
   "metadata": {},
   "outputs": [],
   "source": [
    "np.arange(1, 10, 2)"
   ]
  },
  {
   "cell_type": "code",
   "execution_count": null,
   "id": "8b55e5a2",
   "metadata": {},
   "outputs": [],
   "source": [
    "np.arange(0, 5, 0.5)"
   ]
  },
  {
   "cell_type": "markdown",
   "id": "3215f36a",
   "metadata": {},
   "source": [
    "### using line space"
   ]
  },
  {
   "cell_type": "code",
   "execution_count": null,
   "id": "1ebb2487",
   "metadata": {},
   "outputs": [],
   "source": [
    "from numpy import pi"
   ]
  },
  {
   "cell_type": "code",
   "execution_count": null,
   "id": "fa9bec52",
   "metadata": {},
   "outputs": [],
   "source": [
    "np.linspace(0, 2, 9)"
   ]
  },
  {
   "cell_type": "code",
   "execution_count": null,
   "id": "11a48a79",
   "metadata": {},
   "outputs": [],
   "source": [
    "x = np.linspace(0, 2 * pi, 100)"
   ]
  },
  {
   "cell_type": "code",
   "execution_count": null,
   "id": "b0f4deb2",
   "metadata": {},
   "outputs": [],
   "source": [
    "x"
   ]
  },
  {
   "cell_type": "markdown",
   "id": "cfd29f57",
   "metadata": {},
   "source": [
    "# Printing arrays"
   ]
  },
  {
   "cell_type": "markdown",
   "id": "529a8bc2",
   "metadata": {},
   "source": [
    "### print one dimensional array"
   ]
  },
  {
   "cell_type": "code",
   "execution_count": null,
   "id": "4456bde4",
   "metadata": {},
   "outputs": [],
   "source": [
    "oneD = np.arange(6)"
   ]
  },
  {
   "cell_type": "code",
   "execution_count": null,
   "id": "cf374f31",
   "metadata": {},
   "outputs": [],
   "source": [
    "oneD"
   ]
  },
  {
   "cell_type": "code",
   "execution_count": null,
   "id": "3cdb9e23",
   "metadata": {},
   "outputs": [],
   "source": [
    "print(oneD)"
   ]
  },
  {
   "cell_type": "markdown",
   "id": "5ca7dae8",
   "metadata": {},
   "source": [
    "### print bi dimensional array"
   ]
  },
  {
   "cell_type": "code",
   "execution_count": null,
   "id": "1b18742b",
   "metadata": {},
   "outputs": [],
   "source": [
    "biD = np.arange(12).reshape(4, 3)"
   ]
  },
  {
   "cell_type": "code",
   "execution_count": null,
   "id": "3960fe89",
   "metadata": {},
   "outputs": [],
   "source": [
    "biD"
   ]
  },
  {
   "cell_type": "code",
   "execution_count": null,
   "id": "4f8808dc",
   "metadata": {},
   "outputs": [],
   "source": [
    "print(biD)"
   ]
  },
  {
   "cell_type": "markdown",
   "id": "5cd368a3",
   "metadata": {},
   "source": [
    "### print tri dimensioal array"
   ]
  },
  {
   "cell_type": "code",
   "execution_count": null,
   "id": "aab95ff1",
   "metadata": {},
   "outputs": [],
   "source": [
    "triD = np.arange(24).reshape(2, 3, 4)"
   ]
  },
  {
   "cell_type": "code",
   "execution_count": null,
   "id": "4ccf2e2d",
   "metadata": {},
   "outputs": [],
   "source": [
    "triD"
   ]
  },
  {
   "cell_type": "code",
   "execution_count": null,
   "id": "06d89f86",
   "metadata": {},
   "outputs": [],
   "source": [
    "print(triD)"
   ]
  },
  {
   "cell_type": "markdown",
   "id": "961ca378",
   "metadata": {},
   "source": [
    "### print too big array"
   ]
  },
  {
   "cell_type": "code",
   "execution_count": null,
   "id": "fd7d27f7",
   "metadata": {},
   "outputs": [],
   "source": [
    "print(np.arange(100000))"
   ]
  },
  {
   "cell_type": "markdown",
   "id": "7f0cc059",
   "metadata": {},
   "source": [
    "# Basic Operations on Arrays"
   ]
  },
  {
   "cell_type": "code",
   "execution_count": null,
   "id": "34766371",
   "metadata": {},
   "outputs": [],
   "source": [
    "a = np.array([20, 30, 40, 50])"
   ]
  },
  {
   "cell_type": "code",
   "execution_count": null,
   "id": "70301b4d",
   "metadata": {},
   "outputs": [],
   "source": [
    "b = np.arange(4)"
   ]
  },
  {
   "cell_type": "code",
   "execution_count": null,
   "id": "66e9373f",
   "metadata": {},
   "outputs": [],
   "source": [
    "a"
   ]
  },
  {
   "cell_type": "code",
   "execution_count": null,
   "id": "e5005eb9",
   "metadata": {},
   "outputs": [],
   "source": [
    "b "
   ]
  },
  {
   "cell_type": "code",
   "execution_count": null,
   "id": "399cb7a0",
   "metadata": {},
   "outputs": [],
   "source": [
    "c = a - b"
   ]
  },
  {
   "cell_type": "code",
   "execution_count": null,
   "id": "333defd6",
   "metadata": {},
   "outputs": [],
   "source": [
    "c"
   ]
  },
  {
   "cell_type": "code",
   "execution_count": null,
   "id": "0df65e5f",
   "metadata": {},
   "outputs": [],
   "source": [
    "sqr = b ** 2"
   ]
  },
  {
   "cell_type": "code",
   "execution_count": null,
   "id": "9b42f3f8",
   "metadata": {},
   "outputs": [],
   "source": [
    "sqr2 = a ** 2"
   ]
  },
  {
   "cell_type": "code",
   "execution_count": null,
   "id": "70dbcfd9",
   "metadata": {},
   "outputs": [],
   "source": [
    "sqr2"
   ]
  },
  {
   "cell_type": "code",
   "execution_count": null,
   "id": "467835ee",
   "metadata": {},
   "outputs": [],
   "source": [
    "10 * np.sin(a)"
   ]
  },
  {
   "cell_type": "code",
   "execution_count": null,
   "id": "59dd4e22",
   "metadata": {},
   "outputs": [],
   "source": [
    "a < 35"
   ]
  },
  {
   "cell_type": "code",
   "execution_count": null,
   "id": "77628665",
   "metadata": {},
   "outputs": [],
   "source": [
    "b > 500"
   ]
  },
  {
   "cell_type": "code",
   "execution_count": null,
   "id": "69972ad0",
   "metadata": {},
   "outputs": [],
   "source": [
    "b > 15"
   ]
  },
  {
   "cell_type": "code",
   "execution_count": null,
   "id": "dc055d4e",
   "metadata": {},
   "outputs": [],
   "source": [
    "b > 2"
   ]
  },
  {
   "cell_type": "markdown",
   "id": "f0d0d940",
   "metadata": {},
   "source": [
    "### * elementwise"
   ]
  },
  {
   "cell_type": "code",
   "execution_count": null,
   "id": "2bd10dd4",
   "metadata": {},
   "outputs": [],
   "source": [
    "A = np.array([[1, 1], [0, 1]])"
   ]
  },
  {
   "cell_type": "code",
   "execution_count": null,
   "id": "116a117e",
   "metadata": {},
   "outputs": [],
   "source": [
    "B = np.array([[2, 0], [3, 4]])"
   ]
  },
  {
   "cell_type": "code",
   "execution_count": null,
   "id": "2551daf1",
   "metadata": {},
   "outputs": [],
   "source": [
    "print(A * B)"
   ]
  },
  {
   "cell_type": "markdown",
   "id": "86543313",
   "metadata": {},
   "source": [
    "### matrix product"
   ]
  },
  {
   "cell_type": "code",
   "execution_count": null,
   "id": "61eb5a76",
   "metadata": {},
   "outputs": [],
   "source": [
    "print(A @ B)"
   ]
  },
  {
   "cell_type": "code",
   "execution_count": null,
   "id": "1905494c",
   "metadata": {},
   "outputs": [],
   "source": [
    "print(A.dot(B))"
   ]
  },
  {
   "cell_type": "markdown",
   "id": "0c8ef301",
   "metadata": {},
   "source": [
    "### inplace changes of the array"
   ]
  },
  {
   "cell_type": "code",
   "execution_count": null,
   "id": "c0fc4011",
   "metadata": {},
   "outputs": [],
   "source": [
    "rg = np.random.default_rng(1)\n"
   ]
  },
  {
   "cell_type": "code",
   "execution_count": null,
   "id": "2b6ef66e",
   "metadata": {},
   "outputs": [],
   "source": [
    "\n",
    "a = np.ones((2, 3), dtype=int)\n",
    "b = rg.random((2, 3))"
   ]
  },
  {
   "cell_type": "code",
   "execution_count": null,
   "id": "04756215",
   "metadata": {},
   "outputs": [],
   "source": [
    "print(a)"
   ]
  },
  {
   "cell_type": "code",
   "execution_count": null,
   "id": "0a462bdd",
   "metadata": {},
   "outputs": [],
   "source": [
    "print(b)"
   ]
  },
  {
   "cell_type": "code",
   "execution_count": null,
   "id": "e935ecf2",
   "metadata": {},
   "outputs": [],
   "source": [
    "a += 4"
   ]
  },
  {
   "cell_type": "code",
   "execution_count": null,
   "id": "394a931e",
   "metadata": {},
   "outputs": [],
   "source": [
    "print(a)"
   ]
  },
  {
   "cell_type": "code",
   "execution_count": null,
   "id": "38a2d21e",
   "metadata": {},
   "outputs": [],
   "source": [
    "a"
   ]
  },
  {
   "cell_type": "code",
   "execution_count": null,
   "id": "7e217204",
   "metadata": {},
   "outputs": [],
   "source": [
    "b += a"
   ]
  },
  {
   "cell_type": "code",
   "execution_count": null,
   "id": "2d406c6f",
   "metadata": {},
   "outputs": [],
   "source": [
    "print(b)"
   ]
  },
  {
   "cell_type": "code",
   "execution_count": null,
   "id": "90980755",
   "metadata": {},
   "outputs": [],
   "source": [
    "a += b"
   ]
  },
  {
   "cell_type": "markdown",
   "id": "88f2c715",
   "metadata": {},
   "source": [
    "### upcasting"
   ]
  },
  {
   "cell_type": "code",
   "execution_count": null,
   "id": "2da608db",
   "metadata": {},
   "outputs": [],
   "source": [
    "a = np.ones(3, dtype=np.int32)\n"
   ]
  },
  {
   "cell_type": "code",
   "execution_count": null,
   "id": "4cdb6aba",
   "metadata": {},
   "outputs": [],
   "source": [
    "c = np.linspace(0 , pi, 3)"
   ]
  },
  {
   "cell_type": "code",
   "execution_count": null,
   "id": "4433dd1b",
   "metadata": {},
   "outputs": [],
   "source": [
    "print(c)"
   ]
  },
  {
   "cell_type": "code",
   "execution_count": null,
   "id": "2ce8ac18",
   "metadata": {},
   "outputs": [],
   "source": [
    "c.dtype.name"
   ]
  },
  {
   "cell_type": "code",
   "execution_count": null,
   "id": "56260280",
   "metadata": {},
   "outputs": [],
   "source": [
    "d = np.exp(c * 1j )"
   ]
  },
  {
   "cell_type": "code",
   "execution_count": null,
   "id": "7b2dfbf3",
   "metadata": {},
   "outputs": [],
   "source": [
    "d.dtype.name"
   ]
  },
  {
   "cell_type": "code",
   "execution_count": null,
   "id": "b8de3e64",
   "metadata": {},
   "outputs": [],
   "source": [
    "a = rg.random((2, 3))"
   ]
  },
  {
   "cell_type": "code",
   "execution_count": null,
   "id": "2955fba5",
   "metadata": {},
   "outputs": [],
   "source": [
    "a"
   ]
  },
  {
   "cell_type": "code",
   "execution_count": null,
   "id": "46950573",
   "metadata": {},
   "outputs": [],
   "source": [
    "a.sum()"
   ]
  },
  {
   "cell_type": "code",
   "execution_count": null,
   "id": "636dcb2a",
   "metadata": {},
   "outputs": [],
   "source": [
    "a.min()"
   ]
  },
  {
   "cell_type": "code",
   "execution_count": null,
   "id": "1103d352",
   "metadata": {},
   "outputs": [],
   "source": [
    "a.max()"
   ]
  },
  {
   "cell_type": "markdown",
   "id": "af5725de",
   "metadata": {},
   "source": [
    "### Axis specific operations"
   ]
  },
  {
   "cell_type": "code",
   "execution_count": null,
   "id": "fc4aa0e2",
   "metadata": {},
   "outputs": [],
   "source": [
    "b = np.arange(12).reshape(3, 4)"
   ]
  },
  {
   "cell_type": "code",
   "execution_count": null,
   "id": "aedfcd24",
   "metadata": {},
   "outputs": [],
   "source": [
    "b"
   ]
  },
  {
   "cell_type": "markdown",
   "id": "e7fea8a2",
   "metadata": {},
   "source": [
    "###### sum of each column "
   ]
  },
  {
   "cell_type": "code",
   "execution_count": null,
   "id": "2552fe92",
   "metadata": {},
   "outputs": [],
   "source": [
    "b.sum(axis=0)"
   ]
  },
  {
   "cell_type": "code",
   "execution_count": null,
   "id": "75891b39",
   "metadata": {},
   "outputs": [],
   "source": [
    "b.sum(axis=1)"
   ]
  },
  {
   "cell_type": "code",
   "execution_count": null,
   "id": "49dc1c22",
   "metadata": {},
   "outputs": [],
   "source": [
    "b.ndim"
   ]
  },
  {
   "cell_type": "code",
   "execution_count": null,
   "id": "634ac89b",
   "metadata": {},
   "outputs": [],
   "source": [
    "b.min(axis=0)"
   ]
  },
  {
   "cell_type": "code",
   "execution_count": null,
   "id": "e0f9e3cd",
   "metadata": {},
   "outputs": [],
   "source": [
    "b"
   ]
  },
  {
   "cell_type": "code",
   "execution_count": null,
   "id": "5674c50a",
   "metadata": {},
   "outputs": [],
   "source": [
    "b.min(axis=1)"
   ]
  },
  {
   "cell_type": "code",
   "execution_count": null,
   "id": "896f7f84",
   "metadata": {},
   "outputs": [],
   "source": [
    "b.cumsum(axis=1)"
   ]
  },
  {
   "cell_type": "code",
   "execution_count": null,
   "id": "650ea2ac",
   "metadata": {},
   "outputs": [],
   "source": [
    "b.cumsum(axis=0)"
   ]
  },
  {
   "cell_type": "markdown",
   "id": "77df521f",
   "metadata": {},
   "source": [
    "### Universal functions"
   ]
  },
  {
   "cell_type": "code",
   "execution_count": null,
   "id": "6809e8f5",
   "metadata": {},
   "outputs": [],
   "source": [
    "B = np.arange(3)"
   ]
  },
  {
   "cell_type": "code",
   "execution_count": null,
   "id": "9dbcbc06",
   "metadata": {},
   "outputs": [],
   "source": [
    "print(B)"
   ]
  },
  {
   "cell_type": "code",
   "execution_count": null,
   "id": "ad4df5d0",
   "metadata": {},
   "outputs": [],
   "source": [
    "np.exp(B)"
   ]
  },
  {
   "cell_type": "code",
   "execution_count": null,
   "id": "3cc64b57",
   "metadata": {},
   "outputs": [],
   "source": [
    "np.sin(B)"
   ]
  },
  {
   "cell_type": "code",
   "execution_count": null,
   "id": "3bb75631",
   "metadata": {},
   "outputs": [],
   "source": [
    "np.cos(B)"
   ]
  },
  {
   "cell_type": "code",
   "execution_count": null,
   "id": "ba755128",
   "metadata": {},
   "outputs": [],
   "source": [
    "np.sinh(B)"
   ]
  },
  {
   "cell_type": "code",
   "execution_count": null,
   "id": "4286908c",
   "metadata": {},
   "outputs": [],
   "source": [
    "Ang1 = np.array([[0, 30, 45,60, 90, 120, 150, 180]])"
   ]
  },
  {
   "cell_type": "code",
   "execution_count": null,
   "id": "79c6ad18",
   "metadata": {},
   "outputs": [],
   "source": [
    "Ang2 = np.array([[210, 240, 270, 300, 330, 360]])"
   ]
  },
  {
   "cell_type": "code",
   "execution_count": null,
   "id": "aa67de0f",
   "metadata": {},
   "outputs": [],
   "source": [
    "values = np.sin(Ang1)"
   ]
  },
  {
   "cell_type": "code",
   "execution_count": null,
   "id": "102e14d0",
   "metadata": {},
   "outputs": [],
   "source": [
    "print(values)"
   ]
  },
  {
   "cell_type": "code",
   "execution_count": null,
   "id": "8d39d8a5",
   "metadata": {},
   "outputs": [],
   "source": [
    "values2 = np.cos(Ang2)"
   ]
  },
  {
   "cell_type": "code",
   "execution_count": null,
   "id": "0db71dc7",
   "metadata": {},
   "outputs": [],
   "source": [
    "print(values2)"
   ]
  },
  {
   "cell_type": "markdown",
   "id": "4a4a1e5e",
   "metadata": {},
   "source": [
    "# indexing, slicing, and iterating"
   ]
  },
  {
   "cell_type": "markdown",
   "id": "d7ba1157",
   "metadata": {},
   "source": [
    "### 1. one-dimenisional arrays"
   ]
  },
  {
   "cell_type": "code",
   "execution_count": null,
   "id": "8c69b6d1",
   "metadata": {},
   "outputs": [],
   "source": [
    "a = np.arange(10) ** 3"
   ]
  },
  {
   "cell_type": "code",
   "execution_count": null,
   "id": "7bdd5380",
   "metadata": {},
   "outputs": [],
   "source": [
    "a"
   ]
  },
  {
   "cell_type": "code",
   "execution_count": null,
   "id": "c9f4b4cf",
   "metadata": {},
   "outputs": [],
   "source": [
    "a[0]"
   ]
  },
  {
   "cell_type": "code",
   "execution_count": null,
   "id": "71d6a2da",
   "metadata": {},
   "outputs": [],
   "source": [
    "a[5]"
   ]
  },
  {
   "cell_type": "code",
   "execution_count": null,
   "id": "ee6a6b4f",
   "metadata": {},
   "outputs": [],
   "source": [
    "a[8]"
   ]
  },
  {
   "cell_type": "markdown",
   "id": "1b70b76a",
   "metadata": {},
   "source": [
    "###### slicing"
   ]
  },
  {
   "cell_type": "code",
   "execution_count": null,
   "id": "5b688692",
   "metadata": {},
   "outputs": [],
   "source": [
    "a[1: 8]"
   ]
  },
  {
   "cell_type": "code",
   "execution_count": null,
   "id": "c1d582a5",
   "metadata": {},
   "outputs": [],
   "source": [
    "a[3:]"
   ]
  },
  {
   "cell_type": "code",
   "execution_count": null,
   "id": "030a312f",
   "metadata": {},
   "outputs": [],
   "source": [
    "a[:4]"
   ]
  },
  {
   "cell_type": "code",
   "execution_count": null,
   "id": "fa86afda",
   "metadata": {},
   "outputs": [],
   "source": [
    "a[-1]"
   ]
  },
  {
   "cell_type": "code",
   "execution_count": null,
   "id": "0404d1ca",
   "metadata": {},
   "outputs": [],
   "source": [
    "a[-7:-5]"
   ]
  },
  {
   "cell_type": "code",
   "execution_count": null,
   "id": "cd59723d",
   "metadata": {},
   "outputs": [],
   "source": [
    "a[2: -1]"
   ]
  },
  {
   "cell_type": "code",
   "execution_count": null,
   "id": "1443ae8c",
   "metadata": {},
   "outputs": [],
   "source": [
    "a[2:5]"
   ]
  },
  {
   "cell_type": "code",
   "execution_count": null,
   "id": "dadf97ef",
   "metadata": {},
   "outputs": [],
   "source": [
    "a[:6:2] = 1000"
   ]
  },
  {
   "cell_type": "code",
   "execution_count": null,
   "id": "9e728b0f",
   "metadata": {},
   "outputs": [],
   "source": [
    "a"
   ]
  },
  {
   "cell_type": "code",
   "execution_count": null,
   "id": "ba985c2f",
   "metadata": {},
   "outputs": [],
   "source": [
    "a[::-1]"
   ]
  },
  {
   "cell_type": "markdown",
   "id": "0f85dbbf",
   "metadata": {},
   "source": [
    "###### reversing array"
   ]
  },
  {
   "cell_type": "code",
   "execution_count": null,
   "id": "35d54f00",
   "metadata": {},
   "outputs": [],
   "source": [
    "a[::-1]"
   ]
  },
  {
   "cell_type": "code",
   "execution_count": null,
   "id": "d288606a",
   "metadata": {},
   "outputs": [],
   "source": [
    "for i in a:\n",
    "    print(i ** (1/3))"
   ]
  },
  {
   "cell_type": "markdown",
   "id": "a7cc5703",
   "metadata": {},
   "source": [
    "### multi-dimensional arrays"
   ]
  },
  {
   "cell_type": "code",
   "execution_count": null,
   "id": "31398807",
   "metadata": {},
   "outputs": [],
   "source": [
    "def f(x, y):\n",
    "    return 10* x + y"
   ]
  },
  {
   "cell_type": "code",
   "execution_count": null,
   "id": "a6c95c86",
   "metadata": {},
   "outputs": [],
   "source": [
    "b = np.fromfunction(f, (5, 4), dtype=int)"
   ]
  },
  {
   "cell_type": "code",
   "execution_count": null,
   "id": "2535e324",
   "metadata": {},
   "outputs": [],
   "source": [
    "b"
   ]
  },
  {
   "cell_type": "code",
   "execution_count": null,
   "id": "150ae634",
   "metadata": {},
   "outputs": [],
   "source": [
    "b.ndim"
   ]
  },
  {
   "cell_type": "code",
   "execution_count": null,
   "id": "b0c461d4",
   "metadata": {},
   "outputs": [],
   "source": [
    "b[2, 3]"
   ]
  },
  {
   "cell_type": "code",
   "execution_count": null,
   "id": "8ca075f3",
   "metadata": {},
   "outputs": [],
   "source": [
    "b[0:5, 1]"
   ]
  },
  {
   "cell_type": "code",
   "execution_count": null,
   "id": "43243688",
   "metadata": {},
   "outputs": [],
   "source": [
    "b[:, 3]"
   ]
  },
  {
   "cell_type": "code",
   "execution_count": null,
   "id": "cb39e0f7",
   "metadata": {},
   "outputs": [],
   "source": [
    "b"
   ]
  },
  {
   "cell_type": "code",
   "execution_count": null,
   "id": "722c414e",
   "metadata": {},
   "outputs": [],
   "source": [
    "b[1:3, :]"
   ]
  },
  {
   "cell_type": "code",
   "execution_count": null,
   "id": "adc9ba5b",
   "metadata": {},
   "outputs": [],
   "source": [
    "b"
   ]
  },
  {
   "cell_type": "code",
   "execution_count": null,
   "id": "4f6cb2df",
   "metadata": {},
   "outputs": [],
   "source": [
    "b[1:3, 1:3]"
   ]
  },
  {
   "cell_type": "code",
   "execution_count": null,
   "id": "e86f3744",
   "metadata": {},
   "outputs": [],
   "source": [
    "b[1, 3]"
   ]
  },
  {
   "cell_type": "code",
   "execution_count": null,
   "id": "caa40606",
   "metadata": {},
   "outputs": [],
   "source": [
    "\n"
   ]
  },
  {
   "cell_type": "code",
   "execution_count": null,
   "id": "f2e035aa",
   "metadata": {},
   "outputs": [],
   "source": []
  },
  {
   "cell_type": "code",
   "execution_count": null,
   "id": "fa38c55e",
   "metadata": {},
   "outputs": [],
   "source": [
    "b[-1]"
   ]
  },
  {
   "cell_type": "code",
   "execution_count": null,
   "id": "bf7549aa",
   "metadata": {},
   "outputs": [],
   "source": [
    "b[-1, :]"
   ]
  },
  {
   "cell_type": "markdown",
   "id": "18d644b0",
   "metadata": {},
   "source": [
    "### dots(...)"
   ]
  },
  {
   "cell_type": "code",
   "execution_count": null,
   "id": "638a548a",
   "metadata": {},
   "outputs": [],
   "source": [
    "c = np.array([[[0, 1, 2], [10, 12, 13]], [[100, 101, 102], [110, 112, 113]]])"
   ]
  },
  {
   "cell_type": "code",
   "execution_count": null,
   "id": "19720597",
   "metadata": {},
   "outputs": [],
   "source": [
    "c"
   ]
  },
  {
   "cell_type": "code",
   "execution_count": null,
   "id": "877151c6",
   "metadata": {},
   "outputs": [],
   "source": [
    "c.ndim"
   ]
  },
  {
   "cell_type": "code",
   "execution_count": null,
   "id": "4d47f185",
   "metadata": {},
   "outputs": [],
   "source": [
    "c.shape"
   ]
  },
  {
   "cell_type": "code",
   "execution_count": null,
   "id": "266165da",
   "metadata": {},
   "outputs": [],
   "source": [
    "c.size"
   ]
  },
  {
   "cell_type": "code",
   "execution_count": null,
   "id": "46666065",
   "metadata": {},
   "outputs": [],
   "source": [
    "c[1, ...]"
   ]
  },
  {
   "cell_type": "code",
   "execution_count": null,
   "id": "771c7b09",
   "metadata": {},
   "outputs": [],
   "source": [
    "c[0, ...]"
   ]
  },
  {
   "cell_type": "code",
   "execution_count": null,
   "id": "f3de530c",
   "metadata": {},
   "outputs": [],
   "source": [
    "c[2, ...]"
   ]
  },
  {
   "cell_type": "code",
   "execution_count": null,
   "id": "b086144f",
   "metadata": {},
   "outputs": [],
   "source": [
    "c[..., 2]"
   ]
  },
  {
   "cell_type": "markdown",
   "id": "51818856",
   "metadata": {},
   "source": [
    "### iterating over multi-dimensional arrays"
   ]
  },
  {
   "cell_type": "code",
   "execution_count": null,
   "id": "8c5d5492",
   "metadata": {},
   "outputs": [],
   "source": [
    "for row in b:\n",
    "    print(row)"
   ]
  },
  {
   "cell_type": "markdown",
   "id": "046f46a4",
   "metadata": {},
   "source": [
    "### iterate over all the elements of array"
   ]
  },
  {
   "cell_type": "code",
   "execution_count": null,
   "id": "2e30edaa",
   "metadata": {},
   "outputs": [],
   "source": [
    "for element in b.flat:\n",
    "    print(element)"
   ]
  },
  {
   "cell_type": "markdown",
   "id": "5ac23956",
   "metadata": {},
   "source": [
    "# Shape manipulation"
   ]
  },
  {
   "cell_type": "markdown",
   "id": "21771d2b",
   "metadata": {},
   "source": [
    "### Changing the shape of an array"
   ]
  },
  {
   "cell_type": "code",
   "execution_count": null,
   "id": "2952f53a",
   "metadata": {},
   "outputs": [],
   "source": [
    "a = np.floor(10 * rg.random((3, 4)))"
   ]
  },
  {
   "cell_type": "code",
   "execution_count": null,
   "id": "99596a7d",
   "metadata": {},
   "outputs": [],
   "source": [
    "a"
   ]
  },
  {
   "cell_type": "code",
   "execution_count": null,
   "id": "679b8d19",
   "metadata": {},
   "outputs": [],
   "source": [
    "print(a)"
   ]
  },
  {
   "cell_type": "code",
   "execution_count": null,
   "id": "ad2077a6",
   "metadata": {},
   "outputs": [],
   "source": [
    "a.ndim"
   ]
  },
  {
   "cell_type": "code",
   "execution_count": null,
   "id": "98bbc9a9",
   "metadata": {},
   "outputs": [],
   "source": [
    "a.shape"
   ]
  },
  {
   "cell_type": "markdown",
   "id": "858561b9",
   "metadata": {},
   "source": [
    "### 1. ravel"
   ]
  },
  {
   "cell_type": "code",
   "execution_count": null,
   "id": "c1fadef7",
   "metadata": {},
   "outputs": [],
   "source": [
    "ravel = a.ravel()"
   ]
  },
  {
   "cell_type": "code",
   "execution_count": null,
   "id": "cd7a6aa7",
   "metadata": {},
   "outputs": [],
   "source": [
    "print(ravel)"
   ]
  },
  {
   "cell_type": "code",
   "execution_count": null,
   "id": "c0716a1e",
   "metadata": {},
   "outputs": [],
   "source": [
    "ravel.ndim"
   ]
  },
  {
   "cell_type": "code",
   "execution_count": null,
   "id": "98c15712",
   "metadata": {},
   "outputs": [],
   "source": [
    "ravel.size"
   ]
  },
  {
   "cell_type": "markdown",
   "id": "ef86ab35",
   "metadata": {},
   "source": [
    "### 2. reshape "
   ]
  },
  {
   "cell_type": "code",
   "execution_count": null,
   "id": "3abbbccd",
   "metadata": {},
   "outputs": [],
   "source": [
    "reshape = a.reshape(6, 2)"
   ]
  },
  {
   "cell_type": "code",
   "execution_count": null,
   "id": "4ce29094",
   "metadata": {},
   "outputs": [],
   "source": [
    "a"
   ]
  },
  {
   "cell_type": "code",
   "execution_count": null,
   "id": "2f6cef54",
   "metadata": {},
   "outputs": [],
   "source": [
    "reshape"
   ]
  },
  {
   "cell_type": "code",
   "execution_count": null,
   "id": "4c6e087d",
   "metadata": {},
   "outputs": [],
   "source": [
    "reshape.ndim"
   ]
  },
  {
   "cell_type": "code",
   "execution_count": null,
   "id": "5fccbcb2",
   "metadata": {},
   "outputs": [],
   "source": [
    "reshape.size"
   ]
  },
  {
   "cell_type": "code",
   "execution_count": null,
   "id": "a04960b0",
   "metadata": {},
   "outputs": [],
   "source": [
    "a.size"
   ]
  },
  {
   "cell_type": "markdown",
   "id": "c97814ab",
   "metadata": {},
   "source": [
    "### 3. Transpose"
   ]
  },
  {
   "cell_type": "code",
   "execution_count": null,
   "id": "f3cb3410",
   "metadata": {},
   "outputs": [],
   "source": [
    "transpose = a.T "
   ]
  },
  {
   "cell_type": "code",
   "execution_count": null,
   "id": "04022530",
   "metadata": {},
   "outputs": [],
   "source": [
    "transpose.shape"
   ]
  },
  {
   "cell_type": "code",
   "execution_count": null,
   "id": "0d5951ed",
   "metadata": {},
   "outputs": [],
   "source": [
    "a.shape"
   ]
  },
  {
   "cell_type": "markdown",
   "id": "5b5b6abd",
   "metadata": {},
   "source": [
    "### 4. reshape vs resize"
   ]
  },
  {
   "cell_type": "code",
   "execution_count": null,
   "id": "548634fe",
   "metadata": {},
   "outputs": [],
   "source": [
    "reshape.shape"
   ]
  },
  {
   "cell_type": "code",
   "execution_count": null,
   "id": "d63b96bf",
   "metadata": {},
   "outputs": [],
   "source": [
    "a.resize(2,6)"
   ]
  },
  {
   "cell_type": "code",
   "execution_count": null,
   "id": "3dd4c78d",
   "metadata": {},
   "outputs": [],
   "source": [
    "a"
   ]
  },
  {
   "cell_type": "code",
   "execution_count": null,
   "id": "62c3bc8d",
   "metadata": {},
   "outputs": [],
   "source": [
    "a"
   ]
  },
  {
   "cell_type": "code",
   "execution_count": null,
   "id": "5ccbaef6",
   "metadata": {},
   "outputs": [],
   "source": [
    "b = np.floor(10 * rg.random((3, 4)))"
   ]
  },
  {
   "cell_type": "code",
   "execution_count": null,
   "id": "f3b42537",
   "metadata": {},
   "outputs": [],
   "source": [
    "b"
   ]
  },
  {
   "cell_type": "code",
   "execution_count": null,
   "id": "b254b29e",
   "metadata": {},
   "outputs": [],
   "source": [
    "b.shape"
   ]
  },
  {
   "cell_type": "code",
   "execution_count": null,
   "id": "8c336d1a",
   "metadata": {},
   "outputs": [],
   "source": [
    "b.reshape(6, 2)"
   ]
  },
  {
   "cell_type": "code",
   "execution_count": null,
   "id": "4652865b",
   "metadata": {},
   "outputs": [],
   "source": [
    "b"
   ]
  },
  {
   "cell_type": "code",
   "execution_count": null,
   "id": "441a263e",
   "metadata": {},
   "outputs": [],
   "source": [
    "b.shape"
   ]
  },
  {
   "cell_type": "code",
   "execution_count": null,
   "id": "016b10e2",
   "metadata": {},
   "outputs": [],
   "source": [
    "b.resize(2, 6)"
   ]
  },
  {
   "cell_type": "code",
   "execution_count": null,
   "id": "ce824384",
   "metadata": {},
   "outputs": [],
   "source": [
    "b"
   ]
  },
  {
   "cell_type": "code",
   "execution_count": null,
   "id": "ae00b470",
   "metadata": {},
   "outputs": [],
   "source": [
    "\n"
   ]
  },
  {
   "cell_type": "code",
   "execution_count": null,
   "id": "d10e76b6",
   "metadata": {},
   "outputs": [],
   "source": [
    "a.reshape(3, -1)"
   ]
  },
  {
   "cell_type": "code",
   "execution_count": null,
   "id": "418abec3",
   "metadata": {},
   "outputs": [],
   "source": [
    "a"
   ]
  },
  {
   "cell_type": "code",
   "execution_count": null,
   "id": "42f9b8d4",
   "metadata": {},
   "outputs": [],
   "source": [
    "\n"
   ]
  },
  {
   "cell_type": "markdown",
   "id": "25127f84",
   "metadata": {},
   "source": [
    "# Arrays stacking"
   ]
  },
  {
   "cell_type": "code",
   "execution_count": null,
   "id": "da04aec6",
   "metadata": {},
   "outputs": [],
   "source": [
    "a = np.floor(10 * rg.random((2, 2)))"
   ]
  },
  {
   "cell_type": "code",
   "execution_count": null,
   "id": "0b05b6d6",
   "metadata": {},
   "outputs": [],
   "source": [
    "a"
   ]
  },
  {
   "cell_type": "code",
   "execution_count": null,
   "id": "c889db73",
   "metadata": {},
   "outputs": [],
   "source": [
    "b = np.floor(10 * rg.random((2, 2)))"
   ]
  },
  {
   "cell_type": "code",
   "execution_count": null,
   "id": "6e95164e",
   "metadata": {},
   "outputs": [],
   "source": [
    "b"
   ]
  },
  {
   "cell_type": "markdown",
   "id": "ec7eec13",
   "metadata": {},
   "source": [
    "### 1. stacking along different axes"
   ]
  },
  {
   "cell_type": "code",
   "execution_count": null,
   "id": "ca7d079b",
   "metadata": {},
   "outputs": [],
   "source": [
    "vstack = np.vstack((a, b))"
   ]
  },
  {
   "cell_type": "code",
   "execution_count": null,
   "id": "b9e812c4",
   "metadata": {},
   "outputs": [],
   "source": [
    "print(vstack)"
   ]
  },
  {
   "cell_type": "code",
   "execution_count": null,
   "id": "6a54965f",
   "metadata": {},
   "outputs": [],
   "source": [
    "vstack.shape"
   ]
  },
  {
   "cell_type": "code",
   "execution_count": null,
   "id": "020d873f",
   "metadata": {},
   "outputs": [],
   "source": [
    "vstack.size"
   ]
  },
  {
   "cell_type": "code",
   "execution_count": null,
   "id": "ecbd146a",
   "metadata": {},
   "outputs": [],
   "source": [
    "vstack.ndim"
   ]
  },
  {
   "cell_type": "markdown",
   "id": "bcdc59ee",
   "metadata": {},
   "source": [
    "###### hstack"
   ]
  },
  {
   "cell_type": "code",
   "execution_count": null,
   "id": "0f3e99ee",
   "metadata": {},
   "outputs": [],
   "source": [
    "hstack = np.hstack((a,b))"
   ]
  },
  {
   "cell_type": "code",
   "execution_count": null,
   "id": "572b7df1",
   "metadata": {},
   "outputs": [],
   "source": [
    "print(hstack)"
   ]
  },
  {
   "cell_type": "code",
   "execution_count": null,
   "id": "c556e46a",
   "metadata": {},
   "outputs": [],
   "source": [
    "hstack.shape"
   ]
  },
  {
   "cell_type": "markdown",
   "id": "bbbb418c",
   "metadata": {},
   "source": [
    "###### column_stack"
   ]
  },
  {
   "cell_type": "code",
   "execution_count": null,
   "id": "5b8c9859",
   "metadata": {},
   "outputs": [],
   "source": [
    "from numpy import newaxis"
   ]
  },
  {
   "cell_type": "code",
   "execution_count": null,
   "id": "19d6c353",
   "metadata": {},
   "outputs": [],
   "source": [
    "np.column_stack((a, b))"
   ]
  },
  {
   "cell_type": "code",
   "execution_count": null,
   "id": "a6232672",
   "metadata": {},
   "outputs": [],
   "source": [
    "a = np.array([3.4 , 2.4])"
   ]
  },
  {
   "cell_type": "code",
   "execution_count": null,
   "id": "3f8e0260",
   "metadata": {},
   "outputs": [],
   "source": [
    "a"
   ]
  },
  {
   "cell_type": "code",
   "execution_count": null,
   "id": "93e69e03",
   "metadata": {},
   "outputs": [],
   "source": [
    "a.ndim"
   ]
  },
  {
   "cell_type": "code",
   "execution_count": null,
   "id": "1756eb9b",
   "metadata": {},
   "outputs": [],
   "source": [
    "b = np.array([4.3, 9.4])"
   ]
  },
  {
   "cell_type": "code",
   "execution_count": null,
   "id": "b9022eee",
   "metadata": {},
   "outputs": [],
   "source": [
    "b"
   ]
  },
  {
   "cell_type": "code",
   "execution_count": null,
   "id": "e2781f07",
   "metadata": {},
   "outputs": [],
   "source": [
    "print(b)"
   ]
  },
  {
   "cell_type": "code",
   "execution_count": null,
   "id": "3dcfad05",
   "metadata": {},
   "outputs": [],
   "source": [
    "hstack1d = np.hstack((a, b)) "
   ]
  },
  {
   "cell_type": "code",
   "execution_count": null,
   "id": "d132e6d4",
   "metadata": {},
   "outputs": [],
   "source": [
    "hstack1d"
   ]
  },
  {
   "cell_type": "code",
   "execution_count": null,
   "id": "771e50e6",
   "metadata": {},
   "outputs": [],
   "source": [
    "a_2d = a[:, newaxis]"
   ]
  },
  {
   "cell_type": "code",
   "execution_count": null,
   "id": "9ce876af",
   "metadata": {},
   "outputs": [],
   "source": [
    "a"
   ]
  },
  {
   "cell_type": "code",
   "execution_count": null,
   "id": "1e50d647",
   "metadata": {},
   "outputs": [],
   "source": [
    "a_2d"
   ]
  },
  {
   "cell_type": "code",
   "execution_count": null,
   "id": "bb875582",
   "metadata": {},
   "outputs": [],
   "source": [
    "a_b_2d = np.column_stack((a[:, newaxis], b[:, newaxis]))"
   ]
  },
  {
   "cell_type": "code",
   "execution_count": null,
   "id": "fbbc1f4b",
   "metadata": {},
   "outputs": [],
   "source": [
    "a_b_2d"
   ]
  },
  {
   "cell_type": "code",
   "execution_count": null,
   "id": "fe2018f1",
   "metadata": {},
   "outputs": [],
   "source": [
    "a_b_2d.ndim"
   ]
  },
  {
   "cell_type": "markdown",
   "id": "f9ed5c7d",
   "metadata": {},
   "source": [
    "###### 3. row_stack"
   ]
  },
  {
   "cell_type": "code",
   "execution_count": null,
   "id": "65162a0d",
   "metadata": {},
   "outputs": [],
   "source": [
    "np.column_stack is np.hstack"
   ]
  },
  {
   "cell_type": "code",
   "execution_count": null,
   "id": "f85397c8",
   "metadata": {},
   "outputs": [],
   "source": [
    "np.row_stack is np.vstack"
   ]
  },
  {
   "cell_type": "markdown",
   "id": "fae87e41",
   "metadata": {},
   "source": [
    "###### 4. r_ and c_"
   ]
  },
  {
   "cell_type": "code",
   "execution_count": null,
   "id": "3b0b15a2",
   "metadata": {},
   "outputs": [],
   "source": [
    "np.r_[1:4, 0, 4]"
   ]
  },
  {
   "cell_type": "markdown",
   "id": "f6d16d9b",
   "metadata": {},
   "source": [
    "### splitting arrays"
   ]
  },
  {
   "cell_type": "code",
   "execution_count": null,
   "id": "3605b15d",
   "metadata": {},
   "outputs": [],
   "source": [
    "a = np.floor(10 * rg.random((2, 12)))"
   ]
  },
  {
   "cell_type": "code",
   "execution_count": null,
   "id": "fbe0645e",
   "metadata": {},
   "outputs": [],
   "source": [
    "a"
   ]
  },
  {
   "cell_type": "markdown",
   "id": "0c7b9b85",
   "metadata": {},
   "source": [
    "###### split this array a into 3"
   ]
  },
  {
   "cell_type": "code",
   "execution_count": null,
   "id": "c877d9ed",
   "metadata": {},
   "outputs": [],
   "source": [
    "splits = np.hsplit(a, 3)"
   ]
  },
  {
   "cell_type": "code",
   "execution_count": null,
   "id": "edb51465",
   "metadata": {},
   "outputs": [],
   "source": [
    "splits"
   ]
  },
  {
   "cell_type": "code",
   "execution_count": null,
   "id": "865291c2",
   "metadata": {},
   "outputs": [],
   "source": [
    "print(splits)"
   ]
  },
  {
   "cell_type": "markdown",
   "id": "42f20dde",
   "metadata": {},
   "source": [
    "###### split 'a' after the third and the fourth column"
   ]
  },
  {
   "cell_type": "code",
   "execution_count": null,
   "id": "c1725f73",
   "metadata": {},
   "outputs": [],
   "source": [
    "np.hsplit(a, (3, 4))"
   ]
  },
  {
   "cell_type": "markdown",
   "id": "b5ca5301",
   "metadata": {},
   "source": [
    "# Copy and views"
   ]
  },
  {
   "cell_type": "markdown",
   "id": "ae3cf1bc",
   "metadata": {},
   "source": [
    "###### 1. no copy at All"
   ]
  },
  {
   "cell_type": "code",
   "execution_count": null,
   "id": "592a82e2",
   "metadata": {},
   "outputs": [],
   "source": [
    "a = np.array([[0, 1, 2, 3], [4, 5, 6, 7], [8, 9, 10, 11]])"
   ]
  },
  {
   "cell_type": "code",
   "execution_count": 347,
   "id": "784058de",
   "metadata": {},
   "outputs": [
    {
     "name": "stdout",
     "output_type": "stream",
     "text": [
      "[[ 0  1  2  3]\n",
      " [ 4  5  6  7]\n",
      " [ 8  9 10 11]]\n"
     ]
    }
   ],
   "source": [
    "print(a)"
   ]
  },
  {
   "cell_type": "code",
   "execution_count": 348,
   "id": "5842b975",
   "metadata": {},
   "outputs": [
    {
     "data": {
      "text/plain": [
       "(3, 4)"
      ]
     },
     "execution_count": 348,
     "metadata": {},
     "output_type": "execute_result"
    }
   ],
   "source": [
    "a.shape"
   ]
  },
  {
   "cell_type": "code",
   "execution_count": 349,
   "id": "aa9f3d54",
   "metadata": {},
   "outputs": [],
   "source": [
    "b = a"
   ]
  },
  {
   "cell_type": "code",
   "execution_count": 350,
   "id": "1a87c3a5",
   "metadata": {},
   "outputs": [
    {
     "data": {
      "text/plain": [
       "True"
      ]
     },
     "execution_count": 350,
     "metadata": {},
     "output_type": "execute_result"
    }
   ],
   "source": [
    "b is a "
   ]
  },
  {
   "cell_type": "code",
   "execution_count": 351,
   "id": "41ba6059",
   "metadata": {},
   "outputs": [],
   "source": [
    "def f(x):\n",
    "    print(id(x))"
   ]
  },
  {
   "cell_type": "code",
   "execution_count": 352,
   "id": "88503342",
   "metadata": {},
   "outputs": [
    {
     "data": {
      "text/plain": [
       "2376863530320"
      ]
     },
     "execution_count": 352,
     "metadata": {},
     "output_type": "execute_result"
    }
   ],
   "source": [
    "id(a) "
   ]
  },
  {
   "cell_type": "code",
   "execution_count": 353,
   "id": "265901a8",
   "metadata": {},
   "outputs": [
    {
     "name": "stdout",
     "output_type": "stream",
     "text": [
      "2376863530320\n"
     ]
    }
   ],
   "source": [
    "f(a)"
   ]
  },
  {
   "cell_type": "markdown",
   "id": "5e74e096",
   "metadata": {},
   "source": [
    "### 2. view or shallow copy"
   ]
  },
  {
   "cell_type": "code",
   "execution_count": 354,
   "id": "6df5be29",
   "metadata": {},
   "outputs": [],
   "source": [
    "c = a.view()"
   ]
  },
  {
   "cell_type": "code",
   "execution_count": 355,
   "id": "e8103649",
   "metadata": {},
   "outputs": [
    {
     "data": {
      "text/plain": [
       "array([[ 0,  1,  2,  3],\n",
       "       [ 4,  5,  6,  7],\n",
       "       [ 8,  9, 10, 11]])"
      ]
     },
     "execution_count": 355,
     "metadata": {},
     "output_type": "execute_result"
    }
   ],
   "source": [
    "c"
   ]
  },
  {
   "cell_type": "code",
   "execution_count": 357,
   "id": "f69c8156",
   "metadata": {},
   "outputs": [
    {
     "data": {
      "text/plain": [
       "False"
      ]
     },
     "execution_count": 357,
     "metadata": {},
     "output_type": "execute_result"
    }
   ],
   "source": [
    "c is a"
   ]
  },
  {
   "cell_type": "code",
   "execution_count": 358,
   "id": "ec680a06",
   "metadata": {},
   "outputs": [
    {
     "data": {
      "text/plain": [
       "True"
      ]
     },
     "execution_count": 358,
     "metadata": {},
     "output_type": "execute_result"
    }
   ],
   "source": [
    "c.base is a"
   ]
  },
  {
   "cell_type": "code",
   "execution_count": 359,
   "id": "bc0b31f6",
   "metadata": {},
   "outputs": [
    {
     "data": {
      "text/plain": [
       "False"
      ]
     },
     "execution_count": 359,
     "metadata": {},
     "output_type": "execute_result"
    }
   ],
   "source": [
    "c.flags.owndata"
   ]
  },
  {
   "cell_type": "code",
   "execution_count": 360,
   "id": "8ab604ca",
   "metadata": {},
   "outputs": [],
   "source": [
    "c = c.reshape(2, 6)"
   ]
  },
  {
   "cell_type": "code",
   "execution_count": 361,
   "id": "483efde8",
   "metadata": {},
   "outputs": [
    {
     "data": {
      "text/plain": [
       "(3, 4)"
      ]
     },
     "execution_count": 361,
     "metadata": {},
     "output_type": "execute_result"
    }
   ],
   "source": [
    "a.shape"
   ]
  },
  {
   "cell_type": "code",
   "execution_count": 363,
   "id": "16704d7c",
   "metadata": {},
   "outputs": [],
   "source": [
    "c[0, 4] = 1234"
   ]
  },
  {
   "cell_type": "code",
   "execution_count": 364,
   "id": "a267957c",
   "metadata": {},
   "outputs": [
    {
     "data": {
      "text/plain": [
       "array([[   0,    1,    2,    3],\n",
       "       [1234,    5,    6,    7],\n",
       "       [   8,    9,   10,   11]])"
      ]
     },
     "execution_count": 364,
     "metadata": {},
     "output_type": "execute_result"
    }
   ],
   "source": [
    "a"
   ]
  },
  {
   "cell_type": "markdown",
   "id": "b812b2cd",
   "metadata": {},
   "source": [
    "### slicing an array returns a view of it"
   ]
  },
  {
   "cell_type": "code",
   "execution_count": 365,
   "id": "6dd9f477",
   "metadata": {},
   "outputs": [],
   "source": [
    "s = a[:, 1:3]"
   ]
  },
  {
   "cell_type": "code",
   "execution_count": 366,
   "id": "4eba645d",
   "metadata": {},
   "outputs": [],
   "source": [
    "s[:] = 10 "
   ]
  },
  {
   "cell_type": "code",
   "execution_count": 367,
   "id": "006bfb15",
   "metadata": {},
   "outputs": [
    {
     "data": {
      "text/plain": [
       "array([[   0,   10,   10,    3],\n",
       "       [1234,   10,   10,    7],\n",
       "       [   8,   10,   10,   11]])"
      ]
     },
     "execution_count": 367,
     "metadata": {},
     "output_type": "execute_result"
    }
   ],
   "source": [
    "a"
   ]
  },
  {
   "cell_type": "markdown",
   "id": "5d2b639f",
   "metadata": {},
   "source": [
    "### 3. deep copy"
   ]
  },
  {
   "cell_type": "code",
   "execution_count": 368,
   "id": "385920cf",
   "metadata": {},
   "outputs": [],
   "source": [
    "d = a.copy()"
   ]
  },
  {
   "cell_type": "code",
   "execution_count": 369,
   "id": "ef643b63",
   "metadata": {},
   "outputs": [
    {
     "data": {
      "text/plain": [
       "array([[   0,   10,   10,    3],\n",
       "       [1234,   10,   10,    7],\n",
       "       [   8,   10,   10,   11]])"
      ]
     },
     "execution_count": 369,
     "metadata": {},
     "output_type": "execute_result"
    }
   ],
   "source": [
    "d"
   ]
  },
  {
   "cell_type": "code",
   "execution_count": 370,
   "id": "a7d94552",
   "metadata": {},
   "outputs": [
    {
     "name": "stdout",
     "output_type": "stream",
     "text": [
      "[[   0   10   10    3]\n",
      " [1234   10   10    7]\n",
      " [   8   10   10   11]]\n"
     ]
    }
   ],
   "source": [
    "print(d)"
   ]
  },
  {
   "cell_type": "code",
   "execution_count": 371,
   "id": "0750d8e4",
   "metadata": {},
   "outputs": [
    {
     "data": {
      "text/plain": [
       "False"
      ]
     },
     "execution_count": 371,
     "metadata": {},
     "output_type": "execute_result"
    }
   ],
   "source": [
    "d is a"
   ]
  },
  {
   "cell_type": "code",
   "execution_count": 372,
   "id": "6b003300",
   "metadata": {},
   "outputs": [
    {
     "data": {
      "text/plain": [
       "False"
      ]
     },
     "execution_count": 372,
     "metadata": {},
     "output_type": "execute_result"
    }
   ],
   "source": [
    "d.base is a"
   ]
  },
  {
   "cell_type": "code",
   "execution_count": 373,
   "id": "1237d733",
   "metadata": {},
   "outputs": [],
   "source": [
    "d[0, 0] = 9999"
   ]
  },
  {
   "cell_type": "markdown",
   "id": "0ac87d5c",
   "metadata": {},
   "source": [
    "d"
   ]
  },
  {
   "cell_type": "code",
   "execution_count": 375,
   "id": "34bd5914",
   "metadata": {},
   "outputs": [
    {
     "data": {
      "text/plain": [
       "array([[   0,   10,   10,    3],\n",
       "       [1234,   10,   10,    7],\n",
       "       [   8,   10,   10,   11]])"
      ]
     },
     "execution_count": 375,
     "metadata": {},
     "output_type": "execute_result"
    }
   ],
   "source": [
    "a"
   ]
  },
  {
   "cell_type": "code",
   "execution_count": null,
   "id": "7e8a8581",
   "metadata": {},
   "outputs": [],
   "source": [
    "x = 10.0\n",
    "\n",
    "0x447FJFJ3UUR - memory location floating point object\n",
    "0x547ffjf8r4j - memory location variable name\n",
    "\n",
    "no copy at all:\n",
    "x , y \n",
    "\n",
    "object \n",
    "\n",
    "view: \n",
    "    \n",
    "deep copy:\n",
    "copy()\n",
    "\n",
    "x --- object1 -- location1\n",
    "y --- object1 -- location2\n",
    "\n",
    "when you do changes in y , it will not be reeflected in x object "
   ]
  },
  {
   "cell_type": "code",
   "execution_count": 376,
   "id": "35956b24",
   "metadata": {},
   "outputs": [],
   "source": [
    "a = np.arange(int(1e8))"
   ]
  },
  {
   "cell_type": "code",
   "execution_count": 377,
   "id": "658c6ee2",
   "metadata": {},
   "outputs": [
    {
     "data": {
      "text/plain": [
       "array([       0,        1,        2, ..., 99999997, 99999998, 99999999])"
      ]
     },
     "execution_count": 377,
     "metadata": {},
     "output_type": "execute_result"
    }
   ],
   "source": [
    "a"
   ]
  },
  {
   "cell_type": "code",
   "execution_count": 378,
   "id": "d079de32",
   "metadata": {},
   "outputs": [],
   "source": [
    "b = a[:100].copy()"
   ]
  },
  {
   "cell_type": "code",
   "execution_count": 379,
   "id": "f6620f60",
   "metadata": {},
   "outputs": [
    {
     "data": {
      "text/plain": [
       "array([ 0,  1,  2,  3,  4,  5,  6,  7,  8,  9, 10, 11, 12, 13, 14, 15, 16,\n",
       "       17, 18, 19, 20, 21, 22, 23, 24, 25, 26, 27, 28, 29, 30, 31, 32, 33,\n",
       "       34, 35, 36, 37, 38, 39, 40, 41, 42, 43, 44, 45, 46, 47, 48, 49, 50,\n",
       "       51, 52, 53, 54, 55, 56, 57, 58, 59, 60, 61, 62, 63, 64, 65, 66, 67,\n",
       "       68, 69, 70, 71, 72, 73, 74, 75, 76, 77, 78, 79, 80, 81, 82, 83, 84,\n",
       "       85, 86, 87, 88, 89, 90, 91, 92, 93, 94, 95, 96, 97, 98, 99])"
      ]
     },
     "execution_count": 379,
     "metadata": {},
     "output_type": "execute_result"
    }
   ],
   "source": [
    "b"
   ]
  },
  {
   "cell_type": "code",
   "execution_count": 380,
   "id": "7bc9df9f",
   "metadata": {},
   "outputs": [],
   "source": [
    "del a "
   ]
  },
  {
   "cell_type": "code",
   "execution_count": 381,
   "id": "338fd239",
   "metadata": {},
   "outputs": [
    {
     "ename": "NameError",
     "evalue": "name 'a' is not defined",
     "output_type": "error",
     "traceback": [
      "\u001b[1;31m---------------------------------------------------------------------------\u001b[0m",
      "\u001b[1;31mNameError\u001b[0m                                 Traceback (most recent call last)",
      "Cell \u001b[1;32mIn[381], line 1\u001b[0m\n\u001b[1;32m----> 1\u001b[0m \u001b[43ma\u001b[49m\n",
      "\u001b[1;31mNameError\u001b[0m: name 'a' is not defined"
     ]
    }
   ],
   "source": [
    "a"
   ]
  },
  {
   "cell_type": "code",
   "execution_count": null,
   "id": "bb3fa252",
   "metadata": {},
   "outputs": [],
   "source": []
  },
  {
   "cell_type": "markdown",
   "id": "a59ef153",
   "metadata": {},
   "source": [
    "# Advance Indexing and Index tricks"
   ]
  },
  {
   "cell_type": "markdown",
   "id": "60b84321",
   "metadata": {},
   "source": [
    "### 1. Indexing with arrays of indices"
   ]
  },
  {
   "cell_type": "code",
   "execution_count": 383,
   "id": "3da5b0ea",
   "metadata": {},
   "outputs": [],
   "source": [
    "a = np.arange(12) **  2  "
   ]
  },
  {
   "cell_type": "code",
   "execution_count": 384,
   "id": "edcb82fa",
   "metadata": {},
   "outputs": [
    {
     "data": {
      "text/plain": [
       "array([  0,   1,   4,   9,  16,  25,  36,  49,  64,  81, 100, 121])"
      ]
     },
     "execution_count": 384,
     "metadata": {},
     "output_type": "execute_result"
    }
   ],
   "source": [
    "a"
   ]
  },
  {
   "cell_type": "code",
   "execution_count": 385,
   "id": "410d52b4",
   "metadata": {},
   "outputs": [],
   "source": [
    "i = np.array([1, 1, 3, 8, 5]) "
   ]
  },
  {
   "cell_type": "code",
   "execution_count": 386,
   "id": "ae0e58a8",
   "metadata": {},
   "outputs": [
    {
     "data": {
      "text/plain": [
       "array([1, 1, 3, 8, 5])"
      ]
     },
     "execution_count": 386,
     "metadata": {},
     "output_type": "execute_result"
    }
   ],
   "source": [
    "i"
   ]
  },
  {
   "cell_type": "code",
   "execution_count": 387,
   "id": "2675e251",
   "metadata": {},
   "outputs": [],
   "source": [
    "j = np.array([[3, 4], [9, 7]])"
   ]
  },
  {
   "cell_type": "code",
   "execution_count": 388,
   "id": "efb105b8",
   "metadata": {},
   "outputs": [
    {
     "data": {
      "text/plain": [
       "array([[3, 4],\n",
       "       [9, 7]])"
      ]
     },
     "execution_count": 388,
     "metadata": {},
     "output_type": "execute_result"
    }
   ],
   "source": [
    "j"
   ]
  },
  {
   "cell_type": "code",
   "execution_count": 389,
   "id": "ed2aaa91",
   "metadata": {},
   "outputs": [
    {
     "data": {
      "text/plain": [
       "array([[ 9, 16],\n",
       "       [81, 49]])"
      ]
     },
     "execution_count": 389,
     "metadata": {},
     "output_type": "execute_result"
    }
   ],
   "source": [
    "a[j]"
   ]
  },
  {
   "cell_type": "code",
   "execution_count": 390,
   "id": "8f3d56de",
   "metadata": {},
   "outputs": [
    {
     "data": {
      "text/plain": [
       "(2, 2)"
      ]
     },
     "execution_count": 390,
     "metadata": {},
     "output_type": "execute_result"
    }
   ],
   "source": [
    "j.shape"
   ]
  },
  {
   "cell_type": "markdown",
   "id": "54122964",
   "metadata": {},
   "source": [
    "###### example2"
   ]
  },
  {
   "cell_type": "code",
   "execution_count": 391,
   "id": "884afbcc",
   "metadata": {},
   "outputs": [],
   "source": [
    "palette = np.array([[0, 0, 0], [255, 0, 0], [0, 255, 0], [0, 0, 255], [255, 255, 255]])"
   ]
  },
  {
   "cell_type": "code",
   "execution_count": 392,
   "id": "bf76cf47",
   "metadata": {},
   "outputs": [
    {
     "data": {
      "text/plain": [
       "array([[  0,   0,   0],\n",
       "       [255,   0,   0],\n",
       "       [  0, 255,   0],\n",
       "       [  0,   0, 255],\n",
       "       [255, 255, 255]])"
      ]
     },
     "execution_count": 392,
     "metadata": {},
     "output_type": "execute_result"
    }
   ],
   "source": [
    "palette"
   ]
  },
  {
   "cell_type": "code",
   "execution_count": 393,
   "id": "cadc77a2",
   "metadata": {},
   "outputs": [
    {
     "name": "stdout",
     "output_type": "stream",
     "text": [
      "[[  0   0   0]\n",
      " [255   0   0]\n",
      " [  0 255   0]\n",
      " [  0   0 255]\n",
      " [255 255 255]]\n"
     ]
    }
   ],
   "source": [
    "print(palette)"
   ]
  },
  {
   "cell_type": "code",
   "execution_count": 394,
   "id": "2d683031",
   "metadata": {},
   "outputs": [
    {
     "data": {
      "text/plain": [
       "(5, 3)"
      ]
     },
     "execution_count": 394,
     "metadata": {},
     "output_type": "execute_result"
    }
   ],
   "source": [
    "palette.shape"
   ]
  },
  {
   "cell_type": "code",
   "execution_count": 395,
   "id": "41976260",
   "metadata": {},
   "outputs": [],
   "source": [
    "image = np.array([[0, 1, 2, 0], [0, 3, 4, 0]])"
   ]
  },
  {
   "cell_type": "code",
   "execution_count": 396,
   "id": "cd1456ad",
   "metadata": {},
   "outputs": [
    {
     "data": {
      "text/plain": [
       "array([[0, 1, 2, 0],\n",
       "       [0, 3, 4, 0]])"
      ]
     },
     "execution_count": 396,
     "metadata": {},
     "output_type": "execute_result"
    }
   ],
   "source": [
    "image"
   ]
  },
  {
   "cell_type": "code",
   "execution_count": 398,
   "id": "c3152aee",
   "metadata": {},
   "outputs": [],
   "source": [
    "color_image = palette[image]"
   ]
  },
  {
   "cell_type": "code",
   "execution_count": 399,
   "id": "86ca1422",
   "metadata": {},
   "outputs": [
    {
     "data": {
      "text/plain": [
       "array([[[  0,   0,   0],\n",
       "        [255,   0,   0],\n",
       "        [  0, 255,   0],\n",
       "        [  0,   0,   0]],\n",
       "\n",
       "       [[  0,   0,   0],\n",
       "        [  0,   0, 255],\n",
       "        [255, 255, 255],\n",
       "        [  0,   0,   0]]])"
      ]
     },
     "execution_count": 399,
     "metadata": {},
     "output_type": "execute_result"
    }
   ],
   "source": [
    "color_image"
   ]
  },
  {
   "cell_type": "code",
   "execution_count": 400,
   "id": "62190911",
   "metadata": {},
   "outputs": [
    {
     "name": "stdout",
     "output_type": "stream",
     "text": [
      "[[[  0   0   0]\n",
      "  [255   0   0]\n",
      "  [  0 255   0]\n",
      "  [  0   0   0]]\n",
      "\n",
      " [[  0   0   0]\n",
      "  [  0   0 255]\n",
      "  [255 255 255]\n",
      "  [  0   0   0]]]\n"
     ]
    }
   ],
   "source": [
    "print(color_image)"
   ]
  },
  {
   "cell_type": "code",
   "execution_count": 401,
   "id": "cd6f28e8",
   "metadata": {},
   "outputs": [
    {
     "data": {
      "text/plain": [
       "3"
      ]
     },
     "execution_count": 401,
     "metadata": {},
     "output_type": "execute_result"
    }
   ],
   "source": [
    "color_image.ndim"
   ]
  },
  {
   "cell_type": "code",
   "execution_count": 402,
   "id": "769c2871",
   "metadata": {},
   "outputs": [
    {
     "data": {
      "text/plain": [
       "(2, 4, 3)"
      ]
     },
     "execution_count": 402,
     "metadata": {},
     "output_type": "execute_result"
    }
   ],
   "source": [
    "color_image.shape"
   ]
  },
  {
   "cell_type": "markdown",
   "id": "4c5c009f",
   "metadata": {},
   "source": [
    "###### example2"
   ]
  },
  {
   "cell_type": "code",
   "execution_count": 403,
   "id": "f355c2b2",
   "metadata": {},
   "outputs": [],
   "source": [
    "a = np.arange(12).reshape(3, 4)"
   ]
  },
  {
   "cell_type": "code",
   "execution_count": 404,
   "id": "cb0e0d52",
   "metadata": {},
   "outputs": [
    {
     "data": {
      "text/plain": [
       "array([[ 0,  1,  2,  3],\n",
       "       [ 4,  5,  6,  7],\n",
       "       [ 8,  9, 10, 11]])"
      ]
     },
     "execution_count": 404,
     "metadata": {},
     "output_type": "execute_result"
    }
   ],
   "source": [
    "a"
   ]
  },
  {
   "cell_type": "code",
   "execution_count": 405,
   "id": "d082f58c",
   "metadata": {},
   "outputs": [
    {
     "data": {
      "text/plain": [
       "2"
      ]
     },
     "execution_count": 405,
     "metadata": {},
     "output_type": "execute_result"
    }
   ],
   "source": [
    "a.ndim"
   ]
  },
  {
   "cell_type": "code",
   "execution_count": 406,
   "id": "1a5a9efe",
   "metadata": {},
   "outputs": [
    {
     "data": {
      "text/plain": [
       "(3, 4)"
      ]
     },
     "execution_count": 406,
     "metadata": {},
     "output_type": "execute_result"
    }
   ],
   "source": [
    "a.shape"
   ]
  },
  {
   "cell_type": "code",
   "execution_count": null,
   "id": "e3c0a04a",
   "metadata": {},
   "outputs": [],
   "source": []
  },
  {
   "cell_type": "code",
   "execution_count": 407,
   "id": "5908de8b",
   "metadata": {},
   "outputs": [],
   "source": [
    "i = np.array([[0, 1], [1, 2]]) "
   ]
  },
  {
   "cell_type": "code",
   "execution_count": 408,
   "id": "d48584bb",
   "metadata": {},
   "outputs": [],
   "source": [
    "j = np.array([[2, 1], [3, 3]]) "
   ]
  },
  {
   "cell_type": "code",
   "execution_count": 409,
   "id": "f88a4903",
   "metadata": {},
   "outputs": [
    {
     "data": {
      "text/plain": [
       "array([[ 2,  5],\n",
       "       [ 7, 11]])"
      ]
     },
     "execution_count": 409,
     "metadata": {},
     "output_type": "execute_result"
    }
   ],
   "source": [
    "a[i, j ]"
   ]
  },
  {
   "cell_type": "code",
   "execution_count": 410,
   "id": "df6c8313",
   "metadata": {},
   "outputs": [
    {
     "data": {
      "text/plain": [
       "array([[ 2,  6],\n",
       "       [ 6, 10]])"
      ]
     },
     "execution_count": 410,
     "metadata": {},
     "output_type": "execute_result"
    }
   ],
   "source": [
    "a[i, 2]"
   ]
  },
  {
   "cell_type": "code",
   "execution_count": 412,
   "id": "6b83332a",
   "metadata": {},
   "outputs": [],
   "source": [
    "indexed =  a[:, j]"
   ]
  },
  {
   "cell_type": "code",
   "execution_count": 413,
   "id": "b067d900",
   "metadata": {},
   "outputs": [
    {
     "data": {
      "text/plain": [
       "3"
      ]
     },
     "execution_count": 413,
     "metadata": {},
     "output_type": "execute_result"
    }
   ],
   "source": [
    "indexed.ndim"
   ]
  },
  {
   "cell_type": "code",
   "execution_count": 414,
   "id": "92176dae",
   "metadata": {},
   "outputs": [
    {
     "data": {
      "text/plain": [
       "(3, 2, 2)"
      ]
     },
     "execution_count": 414,
     "metadata": {},
     "output_type": "execute_result"
    }
   ],
   "source": [
    "indexed.shape"
   ]
  },
  {
   "cell_type": "markdown",
   "id": "68467aa6",
   "metadata": {},
   "source": [
    "###### indexing with tuple"
   ]
  },
  {
   "cell_type": "code",
   "execution_count": 415,
   "id": "894f55b4",
   "metadata": {},
   "outputs": [],
   "source": [
    "l = (i, j)"
   ]
  },
  {
   "cell_type": "code",
   "execution_count": 416,
   "id": "637a9bbc",
   "metadata": {},
   "outputs": [
    {
     "data": {
      "text/plain": [
       "(array([[0, 1],\n",
       "        [1, 2]]),\n",
       " array([[2, 1],\n",
       "        [3, 3]]))"
      ]
     },
     "execution_count": 416,
     "metadata": {},
     "output_type": "execute_result"
    }
   ],
   "source": [
    "l"
   ]
  },
  {
   "cell_type": "code",
   "execution_count": 417,
   "id": "c07b998b",
   "metadata": {},
   "outputs": [
    {
     "data": {
      "text/plain": [
       "array([[ 2,  5],\n",
       "       [ 7, 11]])"
      ]
     },
     "execution_count": 417,
     "metadata": {},
     "output_type": "execute_result"
    }
   ],
   "source": [
    "a[l]"
   ]
  },
  {
   "cell_type": "code",
   "execution_count": 419,
   "id": "ed0fab29",
   "metadata": {},
   "outputs": [
    {
     "data": {
      "text/plain": [
       "array([[ 2,  5],\n",
       "       [ 7, 11]])"
      ]
     },
     "execution_count": 419,
     "metadata": {},
     "output_type": "execute_result"
    }
   ],
   "source": [
    "a[(i, j)]"
   ]
  },
  {
   "cell_type": "code",
   "execution_count": 420,
   "id": "e349c72c",
   "metadata": {},
   "outputs": [
    {
     "data": {
      "text/plain": [
       "array([[ 2,  5],\n",
       "       [ 7, 11]])"
      ]
     },
     "execution_count": 420,
     "metadata": {},
     "output_type": "execute_result"
    }
   ],
   "source": [
    "a[i, j]"
   ]
  },
  {
   "cell_type": "markdown",
   "id": "bca34ecc",
   "metadata": {},
   "source": [
    "###### example4"
   ]
  },
  {
   "cell_type": "code",
   "execution_count": 421,
   "id": "e6472c23",
   "metadata": {},
   "outputs": [],
   "source": [
    "s = np.array([i, j])"
   ]
  },
  {
   "cell_type": "code",
   "execution_count": 425,
   "id": "37a2c92f",
   "metadata": {},
   "outputs": [
    {
     "data": {
      "text/plain": [
       "array([[[0, 1],\n",
       "        [1, 2]],\n",
       "\n",
       "       [[2, 1],\n",
       "        [3, 3]]])"
      ]
     },
     "execution_count": 425,
     "metadata": {},
     "output_type": "execute_result"
    }
   ],
   "source": [
    "s"
   ]
  },
  {
   "cell_type": "code",
   "execution_count": 423,
   "id": "257c1c8c",
   "metadata": {},
   "outputs": [
    {
     "ename": "IndexError",
     "evalue": "index 3 is out of bounds for axis 0 with size 3",
     "output_type": "error",
     "traceback": [
      "\u001b[1;31m---------------------------------------------------------------------------\u001b[0m",
      "\u001b[1;31mIndexError\u001b[0m                                Traceback (most recent call last)",
      "Cell \u001b[1;32mIn[423], line 1\u001b[0m\n\u001b[1;32m----> 1\u001b[0m \u001b[43ma\u001b[49m\u001b[43m[\u001b[49m\u001b[43ms\u001b[49m\u001b[43m]\u001b[49m\n",
      "\u001b[1;31mIndexError\u001b[0m: index 3 is out of bounds for axis 0 with size 3"
     ]
    }
   ],
   "source": [
    "a[s]"
   ]
  },
  {
   "cell_type": "code",
   "execution_count": 426,
   "id": "2fa833d7",
   "metadata": {},
   "outputs": [
    {
     "data": {
      "text/plain": [
       "array([[ 2,  5],\n",
       "       [ 7, 11]])"
      ]
     },
     "execution_count": 426,
     "metadata": {},
     "output_type": "execute_result"
    }
   ],
   "source": [
    "a[tuple(s)]"
   ]
  },
  {
   "cell_type": "markdown",
   "id": "d6bfb9e6",
   "metadata": {},
   "source": [
    "###### search of maximu value"
   ]
  },
  {
   "cell_type": "code",
   "execution_count": 427,
   "id": "20dea75a",
   "metadata": {},
   "outputs": [],
   "source": [
    "time = np.linspace(20, 145, 5)"
   ]
  },
  {
   "cell_type": "code",
   "execution_count": 428,
   "id": "e741195c",
   "metadata": {},
   "outputs": [
    {
     "data": {
      "text/plain": [
       "array([ 20.  ,  51.25,  82.5 , 113.75, 145.  ])"
      ]
     },
     "execution_count": 428,
     "metadata": {},
     "output_type": "execute_result"
    }
   ],
   "source": [
    "time"
   ]
  },
  {
   "cell_type": "code",
   "execution_count": 429,
   "id": "727b02ec",
   "metadata": {},
   "outputs": [],
   "source": [
    "data = np.sin(np.arange(20)).reshape(5, 4) "
   ]
  },
  {
   "cell_type": "code",
   "execution_count": 430,
   "id": "1d5925fa",
   "metadata": {},
   "outputs": [
    {
     "data": {
      "text/plain": [
       "array([[ 0.        ,  0.84147098,  0.90929743,  0.14112001],\n",
       "       [-0.7568025 , -0.95892427, -0.2794155 ,  0.6569866 ],\n",
       "       [ 0.98935825,  0.41211849, -0.54402111, -0.99999021],\n",
       "       [-0.53657292,  0.42016704,  0.99060736,  0.65028784],\n",
       "       [-0.28790332, -0.96139749, -0.75098725,  0.14987721]])"
      ]
     },
     "execution_count": 430,
     "metadata": {},
     "output_type": "execute_result"
    }
   ],
   "source": [
    "data "
   ]
  },
  {
   "cell_type": "code",
   "execution_count": 431,
   "id": "bed6be23",
   "metadata": {},
   "outputs": [],
   "source": [
    "ind = data.argmax(axis=0)"
   ]
  },
  {
   "cell_type": "code",
   "execution_count": 432,
   "id": "a825dfe5",
   "metadata": {},
   "outputs": [
    {
     "data": {
      "text/plain": [
       "array([2, 0, 3, 1], dtype=int64)"
      ]
     },
     "execution_count": 432,
     "metadata": {},
     "output_type": "execute_result"
    }
   ],
   "source": [
    "ind"
   ]
  },
  {
   "cell_type": "code",
   "execution_count": 433,
   "id": "6673d970",
   "metadata": {},
   "outputs": [],
   "source": [
    "# times corresponding to the maxima"
   ]
  },
  {
   "cell_type": "code",
   "execution_count": 434,
   "id": "0f80db8f",
   "metadata": {},
   "outputs": [],
   "source": [
    "time_max = time[ind]"
   ]
  },
  {
   "cell_type": "code",
   "execution_count": 435,
   "id": "9443193d",
   "metadata": {},
   "outputs": [
    {
     "data": {
      "text/plain": [
       "array([ 82.5 ,  20.  , 113.75,  51.25])"
      ]
     },
     "execution_count": 435,
     "metadata": {},
     "output_type": "execute_result"
    }
   ],
   "source": [
    "time_max"
   ]
  },
  {
   "cell_type": "code",
   "execution_count": 436,
   "id": "1d366735",
   "metadata": {},
   "outputs": [],
   "source": [
    "data_max = data[ind, range(data.shape[1])]"
   ]
  },
  {
   "cell_type": "code",
   "execution_count": 437,
   "id": "ce8941de",
   "metadata": {},
   "outputs": [
    {
     "data": {
      "text/plain": [
       "array([0.98935825, 0.84147098, 0.99060736, 0.6569866 ])"
      ]
     },
     "execution_count": 437,
     "metadata": {},
     "output_type": "execute_result"
    }
   ],
   "source": [
    "data_max"
   ]
  },
  {
   "cell_type": "code",
   "execution_count": 438,
   "id": "5be42879",
   "metadata": {},
   "outputs": [
    {
     "data": {
      "text/plain": [
       "True"
      ]
     },
     "execution_count": 438,
     "metadata": {},
     "output_type": "execute_result"
    }
   ],
   "source": [
    "np.all(data_max == data.max(axis=0))"
   ]
  },
  {
   "cell_type": "markdown",
   "id": "2e3f878e",
   "metadata": {},
   "source": [
    "###### indexing with arrays as a target to assign"
   ]
  },
  {
   "cell_type": "code",
   "execution_count": 439,
   "id": "edd6c7f0",
   "metadata": {},
   "outputs": [],
   "source": [
    "a = np.arange(5)"
   ]
  },
  {
   "cell_type": "code",
   "execution_count": 440,
   "id": "4d990b51",
   "metadata": {},
   "outputs": [
    {
     "data": {
      "text/plain": [
       "array([0, 1, 2, 3, 4])"
      ]
     },
     "execution_count": 440,
     "metadata": {},
     "output_type": "execute_result"
    }
   ],
   "source": [
    "a"
   ]
  },
  {
   "cell_type": "code",
   "execution_count": 442,
   "id": "5c816328",
   "metadata": {},
   "outputs": [],
   "source": [
    "a[[1, 3, 4]] = 0"
   ]
  },
  {
   "cell_type": "code",
   "execution_count": 443,
   "id": "9b0ada4f",
   "metadata": {},
   "outputs": [
    {
     "data": {
      "text/plain": [
       "array([0, 0, 2, 0, 0])"
      ]
     },
     "execution_count": 443,
     "metadata": {},
     "output_type": "execute_result"
    }
   ],
   "source": [
    "a"
   ]
  },
  {
   "cell_type": "markdown",
   "id": "288572a2",
   "metadata": {},
   "source": [
    "###### example7"
   ]
  },
  {
   "cell_type": "code",
   "execution_count": null,
   "id": "027bdae6",
   "metadata": {},
   "outputs": [],
   "source": []
  },
  {
   "cell_type": "code",
   "execution_count": 448,
   "id": "6d69beae",
   "metadata": {},
   "outputs": [],
   "source": [
    "a = np.arange(5)"
   ]
  },
  {
   "cell_type": "code",
   "execution_count": 446,
   "id": "2dc4e5ec",
   "metadata": {},
   "outputs": [],
   "source": [
    "a[[0, 0, 2]] = [1, 2, 3]"
   ]
  },
  {
   "cell_type": "code",
   "execution_count": 447,
   "id": "754fe9ba",
   "metadata": {},
   "outputs": [
    {
     "data": {
      "text/plain": [
       "array([2, 1, 3, 3, 4])"
      ]
     },
     "execution_count": 447,
     "metadata": {},
     "output_type": "execute_result"
    }
   ],
   "source": [
    "a"
   ]
  },
  {
   "cell_type": "markdown",
   "id": "92139a6d",
   "metadata": {},
   "source": [
    "###### construct "
   ]
  },
  {
   "cell_type": "code",
   "execution_count": 452,
   "id": "864abacd",
   "metadata": {},
   "outputs": [],
   "source": [
    "a = np.arange(5)"
   ]
  },
  {
   "cell_type": "code",
   "execution_count": 453,
   "id": "2dd292f0",
   "metadata": {},
   "outputs": [
    {
     "data": {
      "text/plain": [
       "array([0, 1, 2, 3, 4])"
      ]
     },
     "execution_count": 453,
     "metadata": {},
     "output_type": "execute_result"
    }
   ],
   "source": [
    "a"
   ]
  },
  {
   "cell_type": "code",
   "execution_count": 454,
   "id": "76e6a644",
   "metadata": {},
   "outputs": [],
   "source": [
    "a[[0, 0, 2]] += 1\n"
   ]
  },
  {
   "cell_type": "code",
   "execution_count": 455,
   "id": "00e13cc1",
   "metadata": {},
   "outputs": [
    {
     "data": {
      "text/plain": [
       "array([1, 1, 3, 3, 4])"
      ]
     },
     "execution_count": 455,
     "metadata": {},
     "output_type": "execute_result"
    }
   ],
   "source": [
    "a"
   ]
  },
  {
   "cell_type": "markdown",
   "id": "1ba8a090",
   "metadata": {},
   "source": [
    "### Indexing with Boolean Arrays"
   ]
  },
  {
   "cell_type": "code",
   "execution_count": 456,
   "id": "ce88a7bb",
   "metadata": {},
   "outputs": [],
   "source": [
    "a = np.arange(12).reshape(3, 4)"
   ]
  },
  {
   "cell_type": "code",
   "execution_count": 459,
   "id": "c00818ed",
   "metadata": {},
   "outputs": [
    {
     "name": "stdout",
     "output_type": "stream",
     "text": [
      "[[ 0  1  2  3]\n",
      " [ 4  5  6  7]\n",
      " [ 8  9 10 11]]\n"
     ]
    }
   ],
   "source": [
    "print(a)"
   ]
  },
  {
   "cell_type": "code",
   "execution_count": 460,
   "id": "aa09bc5c",
   "metadata": {},
   "outputs": [
    {
     "data": {
      "text/plain": [
       "(3, 4)"
      ]
     },
     "execution_count": 460,
     "metadata": {},
     "output_type": "execute_result"
    }
   ],
   "source": [
    "a.shape"
   ]
  },
  {
   "cell_type": "code",
   "execution_count": 457,
   "id": "f282453e",
   "metadata": {},
   "outputs": [],
   "source": [
    "b = a > 4"
   ]
  },
  {
   "cell_type": "code",
   "execution_count": 458,
   "id": "64b46591",
   "metadata": {},
   "outputs": [
    {
     "name": "stdout",
     "output_type": "stream",
     "text": [
      "[[False False False False]\n",
      " [False  True  True  True]\n",
      " [ True  True  True  True]]\n"
     ]
    }
   ],
   "source": [
    "print(b)"
   ]
  },
  {
   "cell_type": "code",
   "execution_count": 461,
   "id": "d15cb4aa",
   "metadata": {},
   "outputs": [
    {
     "data": {
      "text/plain": [
       "(3, 4)"
      ]
     },
     "execution_count": 461,
     "metadata": {},
     "output_type": "execute_result"
    }
   ],
   "source": [
    "b.shape"
   ]
  },
  {
   "cell_type": "code",
   "execution_count": 463,
   "id": "e20c34a6",
   "metadata": {},
   "outputs": [
    {
     "name": "stdout",
     "output_type": "stream",
     "text": [
      "[ 5  6  7  8  9 10 11]\n"
     ]
    }
   ],
   "source": [
    "print(a[b])"
   ]
  },
  {
   "cell_type": "markdown",
   "id": "f8df22bd",
   "metadata": {},
   "source": [
    "###### assignments using booleans"
   ]
  },
  {
   "cell_type": "code",
   "execution_count": 464,
   "id": "4a8d9cf3",
   "metadata": {},
   "outputs": [],
   "source": [
    "a[b] = 0"
   ]
  },
  {
   "cell_type": "code",
   "execution_count": 465,
   "id": "673b93fa",
   "metadata": {},
   "outputs": [
    {
     "data": {
      "text/plain": [
       "array([[0, 1, 2, 3],\n",
       "       [4, 0, 0, 0],\n",
       "       [0, 0, 0, 0]])"
      ]
     },
     "execution_count": 465,
     "metadata": {},
     "output_type": "execute_result"
    }
   ],
   "source": [
    "a"
   ]
  },
  {
   "cell_type": "markdown",
   "id": "ce1f20cb",
   "metadata": {},
   "source": [
    "###### generate an image with Mandelbrot set"
   ]
  },
  {
   "cell_type": "code",
   "execution_count": 466,
   "id": "6649d5ba",
   "metadata": {},
   "outputs": [],
   "source": [
    "import numpy as np\n",
    "import matplotlib.pyplot as plt"
   ]
  },
  {
   "cell_type": "code",
   "execution_count": 468,
   "id": "c6329db5",
   "metadata": {},
   "outputs": [],
   "source": [
    "def mandelbrot(h, w, maxit=20, r=2):\n",
    "    \"\"\"Returns an image of the Mandelbrot fractal of size(h,w).\"\"\"\n",
    "    x = np.linspace(-2.5, 1.5, 4*h+1)\n",
    "    y = np.linspace(-1.5, 1.5, 3*w+1)\n",
    "    A, B = np.meshgrid(x, y)\n",
    "    C = A + B*1j\n",
    "    z = np.zeros_like(C)\n",
    "    divtime = maxit + np.zeros(z.shape, dtype=int)\n",
    "    \n",
    "    for i in range(maxit):\n",
    "        z = z**2 + C\n",
    "        diverge = abs(z) > r\n",
    "        div_now = diverge & (divtime == maxit)\n",
    "        divtime[div_now] = i\n",
    "        z[diverge] = r\n",
    "    \n",
    "    return divtime"
   ]
  },
  {
   "cell_type": "code",
   "execution_count": 469,
   "id": "aa549b9f",
   "metadata": {},
   "outputs": [
    {
     "data": {
      "text/plain": [
       "<Figure size 640x480 with 0 Axes>"
      ]
     },
     "metadata": {},
     "output_type": "display_data"
    }
   ],
   "source": [
    "plt.clf()"
   ]
  },
  {
   "cell_type": "code",
   "execution_count": 470,
   "id": "114af7e7",
   "metadata": {},
   "outputs": [
    {
     "data": {
      "text/plain": [
       "<matplotlib.image.AxesImage at 0x2296b8ea950>"
      ]
     },
     "execution_count": 470,
     "metadata": {},
     "output_type": "execute_result"
    },
    {
     "data": {
      "image/png": "[encoded data removed]",
      "text/plain": [
       "<Figure size 640x480 with 1 Axes>"
      ]
     },
     "metadata": {},
     "output_type": "display_data"
    }
   ],
   "source": [
    "plt.imshow(mandelbrot(400, 400))"
   ]
  },
  {
   "cell_type": "code",
   "execution_count": 472,
   "id": "668c8a27",
   "metadata": {},
   "outputs": [
    {
     "data": {
      "text/plain": [
       "<matplotlib.image.AxesImage at 0x2296ba57850>"
      ]
     },
     "execution_count": 472,
     "metadata": {},
     "output_type": "execute_result"
    },
    {
     "data": {
      "image/png": "[encoded data removed]",
      "text/plain": [
       "<Figure size 640x480 with 1 Axes>"
      ]
     },
     "metadata": {},
     "output_type": "display_data"
    }
   ],
   "source": [
    "plt.imshow(mandelbrot(400, 400, 23, 3))"
   ]
  },
  {
   "cell_type": "markdown",
   "id": "da392932",
   "metadata": {},
   "source": [
    "### ix_() function"
   ]
  },
  {
   "cell_type": "code",
   "execution_count": 473,
   "id": "b281f3c3",
   "metadata": {},
   "outputs": [],
   "source": [
    "a = np.array([2, 3, 4, 5])"
   ]
  },
  {
   "cell_type": "code",
   "execution_count": 474,
   "id": "b910ec52",
   "metadata": {},
   "outputs": [],
   "source": [
    "b = np.array([8, 5, 4])"
   ]
  },
  {
   "cell_type": "code",
   "execution_count": 475,
   "id": "844931a7",
   "metadata": {},
   "outputs": [],
   "source": [
    "c = np.array([5, 4, 6, 8, 3])"
   ]
  },
  {
   "cell_type": "code",
   "execution_count": 476,
   "id": "2eeab984",
   "metadata": {},
   "outputs": [
    {
     "name": "stdout",
     "output_type": "stream",
     "text": [
      "[2 3 4 5]\n"
     ]
    }
   ],
   "source": [
    "print(a)"
   ]
  },
  {
   "cell_type": "code",
   "execution_count": 477,
   "id": "c25bf575",
   "metadata": {},
   "outputs": [
    {
     "name": "stdout",
     "output_type": "stream",
     "text": [
      "[8 5 4]\n"
     ]
    }
   ],
   "source": [
    "print(b)"
   ]
  },
  {
   "cell_type": "code",
   "execution_count": 478,
   "id": "49188909",
   "metadata": {},
   "outputs": [
    {
     "name": "stdout",
     "output_type": "stream",
     "text": [
      "[5 4 6 8 3]\n"
     ]
    }
   ],
   "source": [
    "print(c)"
   ]
  },
  {
   "cell_type": "code",
   "execution_count": null,
   "id": "fd4fe6dc",
   "metadata": {},
   "outputs": [],
   "source": [
    "a+b*c"
   ]
  },
  {
   "cell_type": "code",
   "execution_count": 479,
   "id": "a0766d29",
   "metadata": {},
   "outputs": [],
   "source": [
    "ax, bx, cx = np.ix_(a, b, c)"
   ]
  },
  {
   "cell_type": "code",
   "execution_count": 480,
   "id": "5dbfa3d2",
   "metadata": {},
   "outputs": [
    {
     "data": {
      "text/plain": [
       "array([[[2]],\n",
       "\n",
       "       [[3]],\n",
       "\n",
       "       [[4]],\n",
       "\n",
       "       [[5]]])"
      ]
     },
     "execution_count": 480,
     "metadata": {},
     "output_type": "execute_result"
    }
   ],
   "source": [
    "ax"
   ]
  },
  {
   "cell_type": "code",
   "execution_count": 481,
   "id": "eae02cb1",
   "metadata": {},
   "outputs": [
    {
     "data": {
      "text/plain": [
       "3"
      ]
     },
     "execution_count": 481,
     "metadata": {},
     "output_type": "execute_result"
    }
   ],
   "source": [
    "ax.ndim"
   ]
  },
  {
   "cell_type": "code",
   "execution_count": 482,
   "id": "fa586e36",
   "metadata": {},
   "outputs": [
    {
     "data": {
      "text/plain": [
       "(4, 1, 1)"
      ]
     },
     "execution_count": 482,
     "metadata": {},
     "output_type": "execute_result"
    }
   ],
   "source": [
    "ax.shape"
   ]
  },
  {
   "cell_type": "code",
   "execution_count": 483,
   "id": "54a7d5b4",
   "metadata": {},
   "outputs": [
    {
     "data": {
      "text/plain": [
       "array([[[8],\n",
       "        [5],\n",
       "        [4]]])"
      ]
     },
     "execution_count": 483,
     "metadata": {},
     "output_type": "execute_result"
    }
   ],
   "source": [
    "bx"
   ]
  },
  {
   "cell_type": "code",
   "execution_count": 484,
   "id": "22e651bc",
   "metadata": {},
   "outputs": [
    {
     "data": {
      "text/plain": [
       "array([[[5, 4, 6, 8, 3]]])"
      ]
     },
     "execution_count": 484,
     "metadata": {},
     "output_type": "execute_result"
    }
   ],
   "source": [
    "cx "
   ]
  },
  {
   "cell_type": "code",
   "execution_count": 485,
   "id": "f2960d8f",
   "metadata": {},
   "outputs": [
    {
     "data": {
      "text/plain": [
       "(4, 1, 1)"
      ]
     },
     "execution_count": 485,
     "metadata": {},
     "output_type": "execute_result"
    }
   ],
   "source": [
    "ax.shape"
   ]
  },
  {
   "cell_type": "code",
   "execution_count": 486,
   "id": "e293f776",
   "metadata": {},
   "outputs": [
    {
     "data": {
      "text/plain": [
       "(1, 3, 1)"
      ]
     },
     "execution_count": 486,
     "metadata": {},
     "output_type": "execute_result"
    }
   ],
   "source": [
    "bx.shape"
   ]
  },
  {
   "cell_type": "code",
   "execution_count": 487,
   "id": "01ed7c8e",
   "metadata": {},
   "outputs": [
    {
     "data": {
      "text/plain": [
       "(1, 1, 5)"
      ]
     },
     "execution_count": 487,
     "metadata": {},
     "output_type": "execute_result"
    }
   ],
   "source": [
    "cx.shape"
   ]
  },
  {
   "cell_type": "code",
   "execution_count": 488,
   "id": "26029837",
   "metadata": {},
   "outputs": [],
   "source": [
    "result = ax + bx + cx"
   ]
  },
  {
   "cell_type": "code",
   "execution_count": 489,
   "id": "55ef05cf",
   "metadata": {},
   "outputs": [
    {
     "name": "stdout",
     "output_type": "stream",
     "text": [
      "[[[15 14 16 18 13]\n",
      "  [12 11 13 15 10]\n",
      "  [11 10 12 14  9]]\n",
      "\n",
      " [[16 15 17 19 14]\n",
      "  [13 12 14 16 11]\n",
      "  [12 11 13 15 10]]\n",
      "\n",
      " [[17 16 18 20 15]\n",
      "  [14 13 15 17 12]\n",
      "  [13 12 14 16 11]]\n",
      "\n",
      " [[18 17 19 21 16]\n",
      "  [15 14 16 18 13]\n",
      "  [14 13 15 17 12]]]\n"
     ]
    }
   ],
   "source": [
    "print(result)"
   ]
  },
  {
   "cell_type": "code",
   "execution_count": 490,
   "id": "75496a60",
   "metadata": {},
   "outputs": [
    {
     "data": {
      "text/plain": [
       "(4, 3, 5)"
      ]
     },
     "execution_count": 490,
     "metadata": {},
     "output_type": "execute_result"
    }
   ],
   "source": [
    "result.shape"
   ]
  },
  {
   "cell_type": "code",
   "execution_count": 491,
   "id": "ca25f2cd",
   "metadata": {},
   "outputs": [
    {
     "data": {
      "text/plain": [
       "12"
      ]
     },
     "execution_count": 491,
     "metadata": {},
     "output_type": "execute_result"
    }
   ],
   "source": [
    "result[3, 2, 4]"
   ]
  },
  {
   "cell_type": "code",
   "execution_count": 492,
   "id": "2c38d6f4",
   "metadata": {},
   "outputs": [
    {
     "data": {
      "text/plain": [
       "17"
      ]
     },
     "execution_count": 492,
     "metadata": {},
     "output_type": "execute_result"
    }
   ],
   "source": [
    "a[3] + b[2] * c[4]"
   ]
  },
  {
   "cell_type": "markdown",
   "id": "7dc98232",
   "metadata": {},
   "source": [
    "###### implement the reduce"
   ]
  },
  {
   "cell_type": "code",
   "execution_count": 493,
   "id": "795ac9b1",
   "metadata": {},
   "outputs": [],
   "source": [
    "def ufunc_reduce(ufct, *vectors):\n",
    "    vs = np.ix_(*vectors)\n",
    "    r = ufct.identity\n",
    "    for v in vs:\n",
    "        r = ufct(r, v)\n",
    "    return r"
   ]
  },
  {
   "cell_type": "markdown",
   "id": "7823daf4",
   "metadata": {},
   "source": [
    "###### call the function"
   ]
  },
  {
   "cell_type": "code",
   "execution_count": 494,
   "id": "e0bc528a",
   "metadata": {},
   "outputs": [
    {
     "data": {
      "text/plain": [
       "array([[[15, 14, 16, 18, 13],\n",
       "        [12, 11, 13, 15, 10],\n",
       "        [11, 10, 12, 14,  9]],\n",
       "\n",
       "       [[16, 15, 17, 19, 14],\n",
       "        [13, 12, 14, 16, 11],\n",
       "        [12, 11, 13, 15, 10]],\n",
       "\n",
       "       [[17, 16, 18, 20, 15],\n",
       "        [14, 13, 15, 17, 12],\n",
       "        [13, 12, 14, 16, 11]],\n",
       "\n",
       "       [[18, 17, 19, 21, 16],\n",
       "        [15, 14, 16, 18, 13],\n",
       "        [14, 13, 15, 17, 12]]])"
      ]
     },
     "execution_count": 494,
     "metadata": {},
     "output_type": "execute_result"
    }
   ],
   "source": [
    "ufunc_reduce(np.add, a, b, c)"
   ]
  },
  {
   "cell_type": "markdown",
   "id": "3b74e33d",
   "metadata": {},
   "source": [
    "### Bonus Operations"
   ]
  },
  {
   "cell_type": "markdown",
   "id": "e9b6a23f",
   "metadata": {},
   "source": [
    "###### trick1"
   ]
  },
  {
   "cell_type": "code",
   "execution_count": 496,
   "id": "611a8436",
   "metadata": {},
   "outputs": [],
   "source": [
    "a = np.arange(30)"
   ]
  },
  {
   "cell_type": "code",
   "execution_count": 497,
   "id": "2cefbb25",
   "metadata": {},
   "outputs": [
    {
     "data": {
      "text/plain": [
       "array([ 0,  1,  2,  3,  4,  5,  6,  7,  8,  9, 10, 11, 12, 13, 14, 15, 16,\n",
       "       17, 18, 19, 20, 21, 22, 23, 24, 25, 26, 27, 28, 29])"
      ]
     },
     "execution_count": 497,
     "metadata": {},
     "output_type": "execute_result"
    }
   ],
   "source": [
    "a"
   ]
  },
  {
   "cell_type": "code",
   "execution_count": 500,
   "id": "4e267b39",
   "metadata": {},
   "outputs": [],
   "source": [
    "b = a.reshape((2, -1, 3))"
   ]
  },
  {
   "cell_type": "code",
   "execution_count": 499,
   "id": "ee74368c",
   "metadata": {},
   "outputs": [
    {
     "data": {
      "text/plain": [
       "array([[[ 0,  1,  2],\n",
       "        [ 3,  4,  5],\n",
       "        [ 6,  7,  8],\n",
       "        [ 9, 10, 11],\n",
       "        [12, 13, 14]],\n",
       "\n",
       "       [[15, 16, 17],\n",
       "        [18, 19, 20],\n",
       "        [21, 22, 23],\n",
       "        [24, 25, 26],\n",
       "        [27, 28, 29]]])"
      ]
     },
     "execution_count": 499,
     "metadata": {},
     "output_type": "execute_result"
    }
   ],
   "source": [
    "b"
   ]
  },
  {
   "cell_type": "code",
   "execution_count": 502,
   "id": "9ee0a64c",
   "metadata": {},
   "outputs": [],
   "source": [
    "b1 = a.reshape((3, -1, 2))"
   ]
  },
  {
   "cell_type": "code",
   "execution_count": 503,
   "id": "6fe761ed",
   "metadata": {},
   "outputs": [
    {
     "data": {
      "text/plain": [
       "array([[[ 0,  1],\n",
       "        [ 2,  3],\n",
       "        [ 4,  5],\n",
       "        [ 6,  7],\n",
       "        [ 8,  9]],\n",
       "\n",
       "       [[10, 11],\n",
       "        [12, 13],\n",
       "        [14, 15],\n",
       "        [16, 17],\n",
       "        [18, 19]],\n",
       "\n",
       "       [[20, 21],\n",
       "        [22, 23],\n",
       "        [24, 25],\n",
       "        [26, 27],\n",
       "        [28, 29]]])"
      ]
     },
     "execution_count": 503,
     "metadata": {},
     "output_type": "execute_result"
    }
   ],
   "source": [
    "b1"
   ]
  },
  {
   "cell_type": "code",
   "execution_count": 504,
   "id": "afcbbadd",
   "metadata": {},
   "outputs": [
    {
     "name": "stdout",
     "output_type": "stream",
     "text": [
      "[[[ 0  1]\n",
      "  [ 2  3]\n",
      "  [ 4  5]\n",
      "  [ 6  7]\n",
      "  [ 8  9]]\n",
      "\n",
      " [[10 11]\n",
      "  [12 13]\n",
      "  [14 15]\n",
      "  [16 17]\n",
      "  [18 19]]\n",
      "\n",
      " [[20 21]\n",
      "  [22 23]\n",
      "  [24 25]\n",
      "  [26 27]\n",
      "  [28 29]]]\n"
     ]
    }
   ],
   "source": [
    "print(b1)"
   ]
  },
  {
   "cell_type": "markdown",
   "id": "367bee23",
   "metadata": {},
   "source": [
    "###### Vector stacking"
   ]
  },
  {
   "cell_type": "code",
   "execution_count": 506,
   "id": "fd9c2709",
   "metadata": {},
   "outputs": [],
   "source": [
    "x = np.arange(0, 10, 2)"
   ]
  },
  {
   "cell_type": "code",
   "execution_count": 507,
   "id": "e29bd284",
   "metadata": {},
   "outputs": [
    {
     "name": "stdout",
     "output_type": "stream",
     "text": [
      "[0 2 4 6 8]\n"
     ]
    }
   ],
   "source": [
    "print(x)"
   ]
  },
  {
   "cell_type": "code",
   "execution_count": 508,
   "id": "fbc026a8",
   "metadata": {},
   "outputs": [],
   "source": [
    "y = np.arange(5)"
   ]
  },
  {
   "cell_type": "code",
   "execution_count": 509,
   "id": "5f356794",
   "metadata": {},
   "outputs": [
    {
     "name": "stdout",
     "output_type": "stream",
     "text": [
      "[0 1 2 3 4]\n"
     ]
    }
   ],
   "source": [
    "print(y)"
   ]
  },
  {
   "cell_type": "code",
   "execution_count": 510,
   "id": "16e7395c",
   "metadata": {},
   "outputs": [
    {
     "data": {
      "text/plain": [
       "(5,)"
      ]
     },
     "execution_count": 510,
     "metadata": {},
     "output_type": "execute_result"
    }
   ],
   "source": [
    "x.shape"
   ]
  },
  {
   "cell_type": "code",
   "execution_count": 511,
   "id": "a4c660e8",
   "metadata": {},
   "outputs": [
    {
     "data": {
      "text/plain": [
       "(5,)"
      ]
     },
     "execution_count": 511,
     "metadata": {},
     "output_type": "execute_result"
    }
   ],
   "source": [
    "y.shape"
   ]
  },
  {
   "cell_type": "code",
   "execution_count": 512,
   "id": "41b60cb1",
   "metadata": {},
   "outputs": [],
   "source": [
    "m = np.vstack([x, y])"
   ]
  },
  {
   "cell_type": "code",
   "execution_count": 513,
   "id": "b65b8724",
   "metadata": {},
   "outputs": [
    {
     "data": {
      "text/plain": [
       "array([[0, 2, 4, 6, 8],\n",
       "       [0, 1, 2, 3, 4]])"
      ]
     },
     "execution_count": 513,
     "metadata": {},
     "output_type": "execute_result"
    }
   ],
   "source": [
    "m"
   ]
  },
  {
   "cell_type": "code",
   "execution_count": 514,
   "id": "d478aef9",
   "metadata": {},
   "outputs": [],
   "source": [
    "xy = np.hstack([x, y])"
   ]
  },
  {
   "cell_type": "code",
   "execution_count": 515,
   "id": "e0d450d9",
   "metadata": {},
   "outputs": [
    {
     "data": {
      "text/plain": [
       "array([0, 2, 4, 6, 8, 0, 1, 2, 3, 4])"
      ]
     },
     "execution_count": 515,
     "metadata": {},
     "output_type": "execute_result"
    }
   ],
   "source": [
    "xy"
   ]
  },
  {
   "cell_type": "markdown",
   "id": "353f8df1",
   "metadata": {},
   "source": [
    "### histograms"
   ]
  },
  {
   "cell_type": "code",
   "execution_count": 516,
   "id": "480bbc3b",
   "metadata": {},
   "outputs": [],
   "source": [
    "import numpy as np\n",
    "\n",
    "import matplotlib.pyplot as plt"
   ]
  },
  {
   "cell_type": "code",
   "execution_count": 517,
   "id": "a23d4ab3",
   "metadata": {},
   "outputs": [],
   "source": [
    "rg = np.random.default_rng(1)"
   ]
  },
  {
   "cell_type": "code",
   "execution_count": 518,
   "id": "e4317267",
   "metadata": {},
   "outputs": [],
   "source": [
    "# build a vector of 10000 normal deviate with variance 0.5^2 and mean 2"
   ]
  },
  {
   "cell_type": "code",
   "execution_count": 519,
   "id": "3049e5d0",
   "metadata": {},
   "outputs": [],
   "source": [
    "mu, sigma = 2, 0.5"
   ]
  },
  {
   "cell_type": "code",
   "execution_count": 520,
   "id": "92d3e713",
   "metadata": {},
   "outputs": [],
   "source": [
    "v = rg.normal(mu, sigma, 10000)"
   ]
  },
  {
   "cell_type": "code",
   "execution_count": 521,
   "id": "52f18540",
   "metadata": {},
   "outputs": [],
   "source": [
    "# plot a normalized histogram with 50 bins"
   ]
  },
  {
   "cell_type": "code",
   "execution_count": 522,
   "id": "d3e54ae1",
   "metadata": {},
   "outputs": [
    {
     "data": {
      "text/plain": [
       "(array([0.00128706, 0.00257412, 0.00257412, 0.00257412, 0.00772237,\n",
       "        0.00900943, 0.01415767, 0.03861183, 0.04247301, 0.03989889,\n",
       "        0.05663068, 0.08623308, 0.13900258, 0.16088261, 0.24454157,\n",
       "        0.30117225, 0.34750645, 0.41700774, 0.51997261, 0.60234451,\n",
       "        0.68214229, 0.69501289, 0.78768128, 0.73619884, 0.79540365,\n",
       "        0.78896834, 0.72976354, 0.7014482 , 0.69501289, 0.60749275,\n",
       "        0.57660329, 0.4478972 , 0.39126652, 0.28186634, 0.24196745,\n",
       "        0.20592975, 0.13385434, 0.10425193, 0.07851072, 0.04762125,\n",
       "        0.0296024 , 0.03217652, 0.01029649, 0.00900943, 0.0064353 ,\n",
       "        0.00772237, 0.00514824, 0.00128706, 0.00257412, 0.00128706]),\n",
       " array([0.08106893, 0.15876533, 0.23646173, 0.31415813, 0.39185453,\n",
       "        0.46955093, 0.54724733, 0.62494373, 0.70264013, 0.78033653,\n",
       "        0.85803293, 0.93572933, 1.01342573, 1.09112213, 1.16881853,\n",
       "        1.24651493, 1.32421133, 1.40190773, 1.47960413, 1.55730053,\n",
       "        1.63499693, 1.71269333, 1.79038973, 1.86808613, 1.94578253,\n",
       "        2.02347893, 2.10117533, 2.17887173, 2.25656814, 2.33426454,\n",
       "        2.41196094, 2.48965734, 2.56735374, 2.64505014, 2.72274654,\n",
       "        2.80044294, 2.87813934, 2.95583574, 3.03353214, 3.11122854,\n",
       "        3.18892494, 3.26662134, 3.34431774, 3.42201414, 3.49971054,\n",
       "        3.57740694, 3.65510334, 3.73279974, 3.81049614, 3.88819254,\n",
       "        3.96588894]),\n",
       " <BarContainer object of 50 artists>)"
      ]
     },
     "execution_count": 522,
     "metadata": {},
     "output_type": "execute_result"
    },
    {
     "data": {
      "image/png": "[encoded data removed]",
      "text/plain": [
       "<Figure size 640x480 with 1 Axes>"
      ]
     },
     "metadata": {},
     "output_type": "display_data"
    }
   ],
   "source": [
    "plt.hist(v, bins=50, density=True)"
   ]
  },
  {
   "cell_type": "code",
   "execution_count": 523,
   "id": "2684ce82",
   "metadata": {},
   "outputs": [],
   "source": [
    "# compute the histogram with numpy and then plot it\n"
   ]
  },
  {
   "cell_type": "code",
   "execution_count": 524,
   "id": "d13e41a1",
   "metadata": {},
   "outputs": [],
   "source": [
    "(n, bins) = np.histogram(v, bins=50, density=True)"
   ]
  },
  {
   "cell_type": "code",
   "execution_count": 525,
   "id": "43f0b889",
   "metadata": {},
   "outputs": [
    {
     "data": {
      "text/plain": [
       "[<matplotlib.lines.Line2D at 0x2296fb202d0>]"
      ]
     },
     "execution_count": 525,
     "metadata": {},
     "output_type": "execute_result"
    },
    {
     "data": {
      "image/png": "[encoded data removed]",
      "text/plain": [
       "<Figure size 640x480 with 1 Axes>"
      ]
     },
     "metadata": {},
     "output_type": "display_data"
    }
   ],
   "source": [
    "plt.plot(0.5 * (bins[1:] + bins[:-1]), n)"
   ]
  },
  {
   "cell_type": "code",
   "execution_count": null,
   "id": "d1a0adcc",
   "metadata": {},
   "outputs": [],
   "source": []
  }
 ],
 "metadata": {
  "kernelspec": {
   "display_name": "Python 3 (ipykernel)",
   "language": "python",
   "name": "python3"
  },
  "language_info": {
   "codemirror_mode": {
    "name": "ipython",
    "version": 3
   },
   "file_extension": ".py",
   "mimetype": "text/x-python",
   "name": "python",
   "nbconvert_exporter": "python",
   "pygments_lexer": "ipython3",
   "version": "3.11.2"
  }
 },
 "nbformat": 4,
 "nbformat_minor": 5
}
